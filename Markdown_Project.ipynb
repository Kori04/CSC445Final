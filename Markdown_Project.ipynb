{
  "cells": [
    {
      "cell_type": "markdown",
      "metadata": {
        "id": "view-in-github",
        "colab_type": "text"
      },
      "source": [
        "<a href=\"https://colab.research.google.com/github/Kori04/CSC445Final/blob/main/Markdown_Project.ipynb\" target=\"_parent\"><img src=\"https://colab.research.google.com/assets/colab-badge.svg\" alt=\"Open In Colab\"/></a>"
      ]
    },
    {
      "cell_type": "markdown",
      "metadata": {
        "id": "-dNq2eCCxAYu"
      },
      "source": [
        "# Evolution of cooperation\n",
        "\n",
        "Code examples from [Think Complexity, 2nd edition](https://thinkcomplex.com).\n",
        "\n",
        "Copyright 2016 Allen Downey, [MIT License](http://opensource.org/licenses/MIT)\n",
        "\n",
        "Code Enhancements and Write Up : Andrea Ola, Kori Kobylak"
      ]
    },
    {
      "cell_type": "markdown",
      "source": [
        "# Introduction\n",
        "The Prisoner's Dilemma is a game theory problem which analyzes what people will do when presented with the choice to perform an act in secret which can get them larger payoffs if the other player(s) don't do the same thing. In the version the game gets its name from, two prisoners are presented a choice, they can either snitch or not snitch. If both choose to not snitch they will each get an equally long sentence of four years. If one chooses to snitch and the other doesn't the one who snitches will get one year and the one who didn't will get 6 years. However, if they both choose to snitch they will each get 5 years. So, what is the optimal choice? That is what this will explore looking at both long term and short terms games of the prisoner's dilemma.\n",
        "\n",
        "The way we simulate this is by utilizing a tournament style to determine which Prisoner's Dilemma strategies come out on top after playing for a length of chosen time. We do this by killing off the weakest strategies and slightly changing strategies that did well to figure out the best over time.  We analyze this overtime evolution using 5 data sets. (Kuhn, 2019)\n",
        "\n",
        "\n",
        "*   Mean Fitness - This is the average score of all agents over time\n",
        "*   Niceness - Average number of Cs in agents across all agents\n",
        "*   Opening - Average number of agents who started by cooperating\n",
        "*   Retaliation - Difference between number of agents who when snitched on, retaliate on the next step and who cooperate\n",
        "*   Forgiving - Average number of agents who forgive defection while the defection is still in memory\n",
        "\n",
        "These five data points allow us to closely view what changes in agents over time and what types of strategies will come out on top. In early tournaments different agents were submitted and pitted against each other to see what would come out on top. We have recreated a similar experiment below but for now you just need to know in the original experiment Tit for Tat (TfT) came out on top. (Tobin)\n",
        "\n",
        "Agents are composed of 7 Cs and or Ds with each one telling it what to do based on the oponent's last two actions. Let us break this down by looking at TfT and what its Cooperate (Cs) and Defect (Ds) can tell us about it.\n",
        "\n",
        "The Seven letter string for TfT is as follows, 'CCDCDCD'\n",
        "- The First C means it will always start by cooperating\n",
        "- The Second C means that if the opponent chooses to Cooperate then TfT will cooperate again on the second move\n",
        "- The First D means that, if the opponent chooses to defect in the first move then TfT will defect on the second move\n",
        "\n",
        "From here the rest of these letters will apply to the last two moves the opponent made starting with,\n",
        "- The Third C means that if the opponent cooperated for the past two moves than TfT will as well\n",
        "- The Second D means that if the opponent cooperated and then defected then TfT will defect on the next move\n",
        "- The Final C meants that if the opponent defected and then cooperated then TfT will cooperate again\n",
        "- And the final D means that if the opponent defected twice recently then TfT will defect.\n",
        "\n",
        "This makes Tit for Tat a strategy that is nice meaning it cooperates first, but it is also relaitory as it will retaliate if something defects. But it also is forgiving, meaning that if the opponent after defecting goes back cooperating then TfT will as well. And finally it is clear, making it easy to use for mutual improvement. (Kuhn, 2019)"
      ],
      "metadata": {
        "id": "VwI2HsiGIn4E"
      }
    },
    {
      "cell_type": "markdown",
      "source": [
        "##Code Enhancements\n",
        "###Enhancing the Code with a Round-Robin Tournament Method\n",
        "In simulations such as the Prisoner’s Dilemma, evaluating the interactions between agents is crucial to understand the dynamics of different strategies. The original code employs a Melee Tournament, where each agent interacts with two neighbors (where the interactions can be chosen randomly, depending on whether the randomize parameter is set to True). While this approach is computationally efficient, it introduces randomness in pairings and provides only a limited view of how strategies perform across a population. By adding a Round-Robin Tournament method, we can significantly enhance the analysis, ensuring that each agent interacts with every other agent in the population. This allows for a more comprehensive and unbiased evaluation of strategy performance (Kretz, 2010).\n",
        "\n",
        "The Round-Robin Tournament addresses the limitations of the Melee Tournament by eliminating pairing bias and providing a complete view of strategy performance. In the Melee Tournament, fitness is based on interactions with only two opponents per step, which limits the evaluation of an agent’s effectiveness across the population. In contrast, the Round-Robin Tournament ensures that every agent competes against all others, providing fitness values that reflect a strategy’s overall performance. These fitness values are calculated from the total score of all matches and normalized by the number of matches per agent and the number of rounds per match, enabling fair and consistent comparisons. This approach makes the Round-Robin method especially effective for analyzing diverse strategies.\n",
        "\n",
        "**How the Round-Robin Method Works**\n",
        "The round_robin method ensures every agent interacts with all others in the population:\n",
        "A nested loop iterates over all pairs of agents.\n",
        "1. A nested loop iterates over all pairs of agents.\n",
        "2. Each pair plays a multi-round match using the play method.\n",
        "3. Scores from all matches are accumulated for each agent.\n",
        "4. Fitness values are computed as the average score per match, normalized by the number of matches and rounds played.\n",
        "For example, in a population of three agents:\n",
        "  Agent 0 plays against Agent 1, Agent 2, and itself.\n",
        "  Agent 1 plays against Agent 0, Agent 2, and itself.\n",
        "  Agent 2 plays against Agent 0, Agent 1, and itself.\n",
        "  For this scenario, at the end of the tournament, all agents will have played two matches, and their fitness values will reflect their average performance across those matches.\n",
        "**New Special Agents**\n",
        "In addition adding a new interaction method, we expanded the set of strategies available for agents by adding three new strategies to complement the already-implemented Always Cooperate, Always Defect, and Tit-for-Tat. The new strategies include:\n",
        "* No Forgiveness (nf): Represented as Agent('CCDCDDD'), this strategy starts with cooperation but gradually shifts to defection with no intention to return to cooperation.\n",
        "* Backstabbing (back): Represented as Agent('CDCDCDC'), this strategy alternates between cooperation and defection, mimicking unstable or deceptive behavior.\n",
        "* Start with Defection (StartDef): Represented as Agent('DCCCCCC'), this strategy begins with defection but shifts to cooperation in subsequent interactions.\n",
        "These new strategies provide a richer simulation by introducing behaviors that mimic real-world complexities, such as gradual betrayal, alternating trust, and a willingness to change tactics. By analyzing interactions among this expanded pool of strategies, we can gain deeper insights into the dynamics of cooperation, defection, and trust-building.\n",
        "##Demonstration\n",
        "For our demonstration, we ran a simulation focused entirely on the Backstabbing Agent, using a population of 100 agents over 2,500 steps. This allowed us to observe how this strategy evolved and interacted within its group.\n",
        "Graphs tracking metrics such as mean fitness, niceness, retaliation, and forgiveness highlighted dynamic fluctuations in strategy effectiveness over time. The results revealed that, while initially biased toward defecting behaviors, the population gradually stabilized with agents adopting a mix of cooperative and strategic defecting optimize fitness.\n",
        "\n",
        "**Interactive Simulation Setup**\n",
        "\n",
        "Finally, we made the simulation setup more user-friendly by allowing users to input custom configurations, including the agent genome, population size, and the number of simulation steps. This interactive setup makes the simulation more accessible for testing various scenarios and observing diverse outcomes.\n",
        "\n",
        "*For more detailed results you can view the Designed Simulation section.*\n",
        "##Critique\n",
        "Future Enhancements: Implementing Memory-Size-Three Strategies\n",
        "While we think that implmenting a new type of tournamnet and new special gents added some new interesting features to study, we believe that in the future expanding to memory-size-three strategies offers an exciting opportunity to analyze more complex decision-making processes. These strategies consider the outcomes of the last three rounds of interactions, enabling agents to make decisions based on more information collected from previous rounds (Kretz, 2010).\n",
        "To implement this enhancement, we would need to:\n",
        "* Extend the agent's memory to store three rounds of interaction history.\n",
        "* Adjust the agent's strategy dictionary to include 64 keys, representing all possible combinations of outcomes for three rounds.\n",
        "* Update the respond method to use these keys for determining actions.\n",
        "While this change increases computational complexity due to the larger strategy space, it significantly enriches the analysis by introducing more intricate decision-making possibilities. This could reveal new dynamics in how strategies compete and adapt over time, offering insights into behaviors that cannot emerge with simpler memory strategies."
      ],
      "metadata": {
        "id": "KXkzq39lOrnS"
      }
    },
    {
      "cell_type": "markdown",
      "source": [
        "## Code Writeup Segement\n",
        "\n",
        "Below is all code, complexity analysis, and an analysis of specific simulation\n",
        "\n",
        "\n",
        "\n"
      ],
      "metadata": {
        "id": "Ln6JMe3_Ink3"
      }
    },
    {
      "cell_type": "markdown",
      "metadata": {
        "id": "WR_tufC3xAYw"
      },
      "source": [
        "### Previous code (Untouched)\n",
        "\n",
        "From the Chapter 11 notebook, we will reuse `Simulation` and `Instrument`.\n",
        "\n",
        "Since code in this section is mostly set-up code any code in here is set-up and stays either O(n) or O(1), this is because no other operations apart from variable set-up, simple calculations, or use of single for loops are done.\n",
        "\n",
        "*See comment below each method to for found complexity.*"
      ]
    },
    {
      "cell_type": "code",
      "execution_count": 1,
      "metadata": {
        "id": "oKgn6erixAYw"
      },
      "outputs": [],
      "source": [
        "class Simulation:\n",
        "\n",
        "    def __init__(self, fit_land, agents):\n",
        "        \"\"\"Create the simulation:\n",
        "\n",
        "        fit_land: fit_land\n",
        "        num_agents: int number of agents\n",
        "        agent_maker: function that makes agents\n",
        "        \"\"\"\n",
        "        self.fit_land = fit_land\n",
        "        self.agents = np.asarray(agents)\n",
        "        self.instruments = []\n",
        "        #Complexity O(1)\n",
        "\n",
        "    def add_instrument(self, instrument):\n",
        "        \"\"\"Adds an instrument to the list.\n",
        "\n",
        "        instrument: Instrument object\n",
        "        \"\"\"\n",
        "        self.instruments.append(instrument)\n",
        "         #Complexity O(1)\n",
        "\n",
        "    def plot(self, index, *args, **kwargs):\n",
        "        \"\"\"Plot the results from the indicated instrument.\n",
        "        \"\"\"\n",
        "        self.instruments[index].plot(*args, **kwargs)\n",
        "         #Complexity O(1)\n",
        "\n",
        "    def run(self, num_steps=500):\n",
        "        \"\"\"Run the given number of steps.\n",
        "\n",
        "        num_steps: integer\n",
        "        \"\"\"\n",
        "        # initialize any instruments before starting\n",
        "        self.update_instruments()\n",
        "\n",
        "        for _ in range(num_steps):\n",
        "            self.step()\n",
        "         #Complexity O(n) where n is number of steps\n",
        "\n",
        "    def step(self):\n",
        "        \"\"\"Simulate a time step and update the instruments.\n",
        "        \"\"\"\n",
        "        n = len(self.agents)\n",
        "        fits = self.get_fitnesses()\n",
        "\n",
        "        # see who dies\n",
        "        index_dead = self.choose_dead(fits)\n",
        "        num_dead = len(index_dead)\n",
        "\n",
        "        # replace the dead with copies of the living\n",
        "        replacements = self.choose_replacements(num_dead, fits)\n",
        "        self.agents[index_dead] = replacements\n",
        "\n",
        "        # update any instruments\n",
        "        self.update_instruments()\n",
        "\n",
        "        #Complexity O(1)\n",
        "\n",
        "    def update_instruments(self):\n",
        "        for instrument in self.instruments:\n",
        "            instrument.update(self)\n",
        "         #Complexity O(n) where n is the number of instruments we are working with\n",
        "\n",
        "    def get_locs(self):\n",
        "        \"\"\"Returns a list of agent locations.\"\"\"\n",
        "        return [tuple(agent.loc) for agent in self.agents]\n",
        "        #Complexity O(n) where n is number of agents\n",
        "\n",
        "    def get_fitnesses(self):\n",
        "        \"\"\"Returns an array of agent fitnesses.\"\"\"\n",
        "        fits = [agent.fitness for agent in self.agents]\n",
        "        return np.array(fits)\n",
        "        #Complexity O(n) where n is number of agents\n",
        "\n",
        "    def choose_dead(self, ps):\n",
        "        \"\"\"Choose which agents die in the next timestep.\n",
        "\n",
        "        ps: probability of survival for each agent\n",
        "\n",
        "        returns: indices of the chosen ones\n",
        "        \"\"\"\n",
        "        n = len(self.agents)\n",
        "        is_dead = np.random.random(n) < 0.1\n",
        "        index_dead = np.nonzero(is_dead)[0]\n",
        "        return index_dead\n",
        "        #Complexity O(n) where n is number of agents in the array\n",
        "\n",
        "    def choose_replacements(self, n, weights):\n",
        "        \"\"\"Choose which agents reproduce in the next timestep.\n",
        "\n",
        "        n: number of choices\n",
        "        weights: array of weights\n",
        "\n",
        "        returns: sequence of Agent objects\n",
        "        \"\"\"\n",
        "        agents = np.random.choice(self.agents, size=n, replace=True)\n",
        "        replacements = [agent.copy() for agent in agents]\n",
        "        return replacements\n",
        "        #Complexity O(n) where n is number of choices"
      ]
    },
    {
      "cell_type": "code",
      "execution_count": 2,
      "metadata": {
        "id": "WlkxPDHDxAYw"
      },
      "outputs": [],
      "source": [
        "class Instrument:\n",
        "    \"\"\"Computes a metric at each timestep.\"\"\"\n",
        "\n",
        "    def __init__(self):\n",
        "        self.metrics = []\n",
        "        #Complexity O(1)\n",
        "\n",
        "    def update(self, sim):\n",
        "        \"\"\"Compute the current metric.\n",
        "\n",
        "        Appends to self.metrics.\n",
        "\n",
        "        sim: Simulation object\n",
        "        \"\"\"\n",
        "        # child classes should implement this method\n",
        "        pass\n",
        "        #Complexity O(1)\n",
        "\n",
        "    def plot(self, **options):\n",
        "        plt.plot(self.metrics, **options)\n",
        "        #Complexity O(1)"
      ]
    },
    {
      "cell_type": "code",
      "execution_count": 3,
      "metadata": {
        "id": "SyTEucD6xAYx"
      },
      "outputs": [],
      "source": [
        "class MeanFitness(Instrument):\n",
        "    \"\"\"Computes mean fitness at each timestep.\"\"\"\n",
        "    label = 'Mean fitness'\n",
        "\n",
        "    def update(self, sim):\n",
        "        mean = np.nanmean(sim.get_fitnesses())\n",
        "        self.metrics.append(mean)\n",
        "        #Complexity O(1)"
      ]
    },
    {
      "cell_type": "code",
      "execution_count": 4,
      "metadata": {
        "id": "53495aVXxAYv",
        "outputId": "0aaa9a8d-44c2-4884-d38c-1aa80b7d9c29",
        "colab": {
          "base_uri": "https://localhost:8080/"
        }
      },
      "outputs": [
        {
          "output_type": "stream",
          "name": "stdout",
          "text": [
            "--2024-12-09 19:26:44--  https://raw.githubusercontent.com/AllenDowney/ThinkComplexity2/master/notebooks/utils.py\n",
            "Resolving raw.githubusercontent.com (raw.githubusercontent.com)... 185.199.110.133, 185.199.111.133, 185.199.109.133, ...\n",
            "Connecting to raw.githubusercontent.com (raw.githubusercontent.com)|185.199.110.133|:443... connected.\n",
            "HTTP request sent, awaiting response... 200 OK\n",
            "Length: 2645 (2.6K) [text/plain]\n",
            "Saving to: ‘utils.py’\n",
            "\n",
            "utils.py            100%[===================>]   2.58K  --.-KB/s    in 0s      \n",
            "\n",
            "2024-12-09 19:26:44 (38.0 MB/s) - ‘utils.py’ saved [2645/2645]\n",
            "\n"
          ]
        }
      ],
      "source": [
        "import os\n",
        "if not os.path.exists('utils.py'):\n",
        "    !wget https://raw.githubusercontent.com/AllenDowney/ThinkComplexity2/master/notebooks/utils.py\n",
        "%matplotlib inline\n",
        "\n",
        "import matplotlib.pyplot as plt\n",
        "import networkx as nx\n",
        "import numpy as np\n",
        "import seaborn as sns\n",
        "\n",
        "from utils import decorate\n",
        "\n",
        "# I set the random seed so the notebook\n",
        "# produces the same results every time.\n",
        "np.random.seed(17)"
      ]
    },
    {
      "cell_type": "markdown",
      "metadata": {
        "id": "JOVmpecYxAYx"
      },
      "source": [
        "### PD Agent\n",
        "\n",
        "The genome of a Prisoner's Dilemma-playing agent is a map from the previous choices of the opponent to the agent's next choice.\n",
        "\n",
        "For Agent Class defintions, the time complexity is O(1) or constant, since the length of time to set up is never dependant on the input, and neither is the mutations.\n",
        "\n",
        "*See comment below each method to for found complexity.*"
      ]
    },
    {
      "cell_type": "code",
      "execution_count": 5,
      "metadata": {
        "id": "7F2U8OlrxAYx"
      },
      "outputs": [],
      "source": [
        "class Agent:\n",
        "\n",
        "    keys = [(None, None),\n",
        "            (None, 'C'),\n",
        "            (None, 'D'),\n",
        "            ('C', 'C'),\n",
        "            ('C', 'D'),\n",
        "            ('D', 'C'),\n",
        "            ('D', 'D')]\n",
        "\n",
        "    def __init__(self, values, fitness=np.nan):\n",
        "        \"\"\"Initialize the agent.\n",
        "\n",
        "        values: sequence of 'C' and 'D'\n",
        "        \"\"\"\n",
        "        self.values = values\n",
        "        self.responses = dict(zip(self.keys, values))\n",
        "        self.fitness = fitness\n",
        "        #Complexity O(1)\n",
        "\n",
        "\n",
        "    def reset(self):\n",
        "        \"\"\"Reset variables before a sequence of games.\n",
        "        \"\"\"\n",
        "        self.hist = [None, None]\n",
        "        self.score = 0\n",
        "        #Complexity O(1)\n",
        "\n",
        "    def past_responses(self, num=2):\n",
        "        \"\"\"Select the given number of most recent responses.\n",
        "\n",
        "        num: integer number of responses\n",
        "\n",
        "        returns: sequence of 'C' and 'D'\n",
        "        \"\"\"\n",
        "        return tuple(self.hist[-num:])\n",
        "        #Complexity O(n) where n is the memory of the agents\n",
        "\n",
        "    def respond(self, other):\n",
        "        \"\"\"Choose a response based on the opponent's recent responses.\n",
        "\n",
        "        other: Agent\n",
        "\n",
        "        returns: 'C' or 'D'\n",
        "        \"\"\"\n",
        "        key = other.past_responses()\n",
        "        resp = self.responses[key]\n",
        "        return resp\n",
        "        #Complexity O(1)\n",
        "\n",
        "    def append(self, resp, pay):\n",
        "        \"\"\"Update based on the last response and payoff.\n",
        "\n",
        "        resp: 'C' or 'D'\n",
        "        pay: number\n",
        "        \"\"\"\n",
        "        self.hist.append(resp)\n",
        "        self.score += pay\n",
        "        #Complexity O(1)\n",
        "\n",
        "    def copy(self, prob_mutate=0.05):\n",
        "        \"\"\"Make a copy of this agent.\n",
        "        \"\"\"\n",
        "        if np.random.random() > prob_mutate:\n",
        "            values = self.values\n",
        "        else:\n",
        "            values = self.mutate()\n",
        "        return Agent(values, self.fitness)\n",
        "        #Complexity O(1)\n",
        "\n",
        "    def mutate(self):\n",
        "        \"\"\"Makes a copy of this agent's values, with one mutation.\n",
        "\n",
        "        returns: sequence of 'C' and 'D'\n",
        "        \"\"\"\n",
        "        values = list(self.values)\n",
        "        index = np.random.choice(len(values))\n",
        "        values[index] = 'C' if values[index] == 'D' else 'D'\n",
        "        return values\n",
        "        #Complexity O(1)"
      ]
    },
    {
      "cell_type": "markdown",
      "source": [
        "### Special Agents\n",
        "\n",
        "This section holds genomes for agents that are premade, such as full cooperation, TfT, and our own additions."
      ],
      "metadata": {
        "id": "AStGVt9eBsB9"
      }
    },
    {
      "cell_type": "markdown",
      "metadata": {
        "id": "kRn0lhI6xAYx"
      },
      "source": [
        "Here's the genome for \"always cooperate\""
      ]
    },
    {
      "cell_type": "code",
      "execution_count": 6,
      "metadata": {
        "id": "M37UFl42xAYx",
        "outputId": "67eb5505-8ae3-49e2-ff9e-f104600f5050",
        "colab": {
          "base_uri": "https://localhost:8080/"
        }
      },
      "outputs": [
        {
          "output_type": "execute_result",
          "data": {
            "text/plain": [
              "{(None, None): 'C',\n",
              " (None, 'C'): 'C',\n",
              " (None, 'D'): 'C',\n",
              " ('C', 'C'): 'C',\n",
              " ('C', 'D'): 'C',\n",
              " ('D', 'C'): 'C',\n",
              " ('D', 'D'): 'C'}"
            ]
          },
          "metadata": {},
          "execution_count": 6
        }
      ],
      "source": [
        "all_c = Agent('CCCCCCC')\n",
        "all_c.responses"
      ]
    },
    {
      "cell_type": "markdown",
      "metadata": {
        "id": "Yl2-p8tcxAYy"
      },
      "source": [
        "And for \"always defect\""
      ]
    },
    {
      "cell_type": "code",
      "execution_count": 7,
      "metadata": {
        "id": "r6edX1QKxAYy",
        "outputId": "8b3090ca-4344-449e-99cf-52c80c1f9a06",
        "colab": {
          "base_uri": "https://localhost:8080/"
        }
      },
      "outputs": [
        {
          "output_type": "execute_result",
          "data": {
            "text/plain": [
              "{(None, None): 'D',\n",
              " (None, 'C'): 'D',\n",
              " (None, 'D'): 'D',\n",
              " ('C', 'C'): 'D',\n",
              " ('C', 'D'): 'D',\n",
              " ('D', 'C'): 'D',\n",
              " ('D', 'D'): 'D'}"
            ]
          },
          "metadata": {},
          "execution_count": 7
        }
      ],
      "source": [
        "all_d = Agent('DDDDDDD')\n",
        "all_d.responses"
      ]
    },
    {
      "cell_type": "markdown",
      "metadata": {
        "id": "istIDaiQxAYy"
      },
      "source": [
        "And for \"tit for tat\""
      ]
    },
    {
      "cell_type": "code",
      "execution_count": 8,
      "metadata": {
        "id": "s8sNyiT1xAYy",
        "outputId": "2ce054f6-c658-41ef-e3bb-cab5ab3cc3f7",
        "colab": {
          "base_uri": "https://localhost:8080/"
        }
      },
      "outputs": [
        {
          "output_type": "execute_result",
          "data": {
            "text/plain": [
              "{(None, None): 'C',\n",
              " (None, 'C'): 'C',\n",
              " (None, 'D'): 'D',\n",
              " ('C', 'C'): 'C',\n",
              " ('C', 'D'): 'D',\n",
              " ('D', 'C'): 'C',\n",
              " ('D', 'D'): 'D'}"
            ]
          },
          "metadata": {},
          "execution_count": 8
        }
      ],
      "source": [
        "tft = Agent('CCDCDCD')\n",
        "tft.responses"
      ]
    },
    {
      "cell_type": "markdown",
      "source": [
        "And For No Forgiveness #Added"
      ],
      "metadata": {
        "id": "tx2h66LK7ejC"
      }
    },
    {
      "cell_type": "code",
      "source": [
        "nf = Agent('CCDCDDD')\n",
        "nf.responses"
      ],
      "metadata": {
        "colab": {
          "base_uri": "https://localhost:8080/"
        },
        "id": "QmAUVKCi7nhU",
        "outputId": "2f8db8db-c97b-48a7-c830-e0a15ae9b7e7"
      },
      "execution_count": 9,
      "outputs": [
        {
          "output_type": "execute_result",
          "data": {
            "text/plain": [
              "{(None, None): 'C',\n",
              " (None, 'C'): 'C',\n",
              " (None, 'D'): 'D',\n",
              " ('C', 'C'): 'C',\n",
              " ('C', 'D'): 'D',\n",
              " ('D', 'C'): 'D',\n",
              " ('D', 'D'): 'D'}"
            ]
          },
          "metadata": {},
          "execution_count": 9
        }
      ]
    },
    {
      "cell_type": "markdown",
      "source": [
        "And For \"Backstabbing\" #Added"
      ],
      "metadata": {
        "id": "Y_gsZ6ZW8fXR"
      }
    },
    {
      "cell_type": "code",
      "source": [
        "back = Agent('CDCDCDC')\n",
        "back.responses"
      ],
      "metadata": {
        "colab": {
          "base_uri": "https://localhost:8080/"
        },
        "id": "jQRQ0c558i1y",
        "outputId": "4fe2d4c1-1d1a-46c6-8222-cd0aa59f55e3"
      },
      "execution_count": 10,
      "outputs": [
        {
          "output_type": "execute_result",
          "data": {
            "text/plain": [
              "{(None, None): 'C',\n",
              " (None, 'C'): 'D',\n",
              " (None, 'D'): 'C',\n",
              " ('C', 'C'): 'D',\n",
              " ('C', 'D'): 'C',\n",
              " ('D', 'C'): 'D',\n",
              " ('D', 'D'): 'C'}"
            ]
          },
          "metadata": {},
          "execution_count": 10
        }
      ]
    },
    {
      "cell_type": "markdown",
      "source": [
        "And For Start Defection #Added"
      ],
      "metadata": {
        "id": "c2GFNwiyE4bG"
      }
    },
    {
      "cell_type": "code",
      "source": [
        "StartDef = Agent(\"DCCCCCC\")\n",
        "StartDef.responses"
      ],
      "metadata": {
        "colab": {
          "base_uri": "https://localhost:8080/"
        },
        "id": "daJWk96PsHcP",
        "outputId": "9605ea67-ec8f-41ca-fe85-f13bf52d6834"
      },
      "execution_count": 11,
      "outputs": [
        {
          "output_type": "execute_result",
          "data": {
            "text/plain": [
              "{(None, None): 'D',\n",
              " (None, 'C'): 'C',\n",
              " (None, 'D'): 'C',\n",
              " ('C', 'C'): 'C',\n",
              " ('C', 'D'): 'C',\n",
              " ('D', 'C'): 'C',\n",
              " ('D', 'D'): 'C'}"
            ]
          },
          "metadata": {},
          "execution_count": 11
        }
      ]
    },
    {
      "cell_type": "markdown",
      "metadata": {
        "id": "SzR6Lrs3xAYz"
      },
      "source": [
        "The `copy` method has some probability of generating a mutation (in this example, `values` is initially a string; after mutation, it's a NumPy array of letters)."
      ]
    },
    {
      "cell_type": "code",
      "execution_count": 12,
      "metadata": {
        "tags": [],
        "id": "mut5SyMExAYz",
        "outputId": "1f3b86d6-e9f5-48e6-8be0-1c3953041aca",
        "colab": {
          "base_uri": "https://localhost:8080/"
        }
      },
      "outputs": [
        {
          "output_type": "stream",
          "name": "stdout",
          "text": [
            "DDDDDDD\n",
            "DDDDDDD\n",
            "DDDDDDD\n",
            "DDDDDDD\n",
            "DDDDDDD\n",
            "DDDDDDD\n",
            "DDDDDDD\n",
            "DDDDDDD\n",
            "['D', 'C', 'D', 'D', 'D', 'D', 'D']\n",
            "['D', 'D', 'C', 'D', 'D', 'D', 'D']\n"
          ]
        }
      ],
      "source": [
        "np.random.seed(17)\n",
        "for i in range(10):\n",
        "    print(all_d.copy().values)"
      ]
    },
    {
      "cell_type": "code",
      "execution_count": 13,
      "metadata": {
        "id": "vhiaKmsvxAYz",
        "outputId": "bd464963-0f8e-4813-b1ec-cea4bf241ba6",
        "colab": {
          "base_uri": "https://localhost:8080/"
        }
      },
      "outputs": [
        {
          "output_type": "execute_result",
          "data": {
            "text/plain": [
              "57"
            ]
          },
          "metadata": {},
          "execution_count": 13
        }
      ],
      "source": [
        "np.sum([all_d.copy().values != all_d.values for i in range(1000)])"
      ]
    },
    {
      "cell_type": "markdown",
      "metadata": {
        "id": "HVkYEHTYxAYz"
      },
      "source": [
        "### The Tournament\n",
        "\n",
        "`Tournament` encapsulates the rules for the tournament.\n",
        "\n",
        "Most of this code has a complexity of O(n) because each of these runs for the length of steps, or uses an array of agents to do what it needs.\n",
        "\n",
        "*See comment below each method to for found complexity.*"
      ]
    },
    {
      "cell_type": "code",
      "execution_count": 14,
      "metadata": {
        "id": "KC3C0xV0xAYz"
      },
      "outputs": [],
      "source": [
        "class Tournament:\n",
        "\n",
        "    payoffs = {('C', 'C'): (3, 3),\n",
        "               ('C', 'D'): (0, 5),\n",
        "               ('D', 'C'): (5, 0),\n",
        "               ('D', 'D'): (1, 1)}\n",
        "\n",
        "    num_rounds = 6\n",
        "\n",
        "    def play(self, agent1, agent2):\n",
        "        \"\"\"Play a sequence of iterated PD rounds.\n",
        "\n",
        "        agent1: Agent\n",
        "        agent2: Agent\n",
        "\n",
        "        returns: tuple of agent1's score, agent2's score\n",
        "        \"\"\"\n",
        "        agent1.reset()\n",
        "        agent2.reset()\n",
        "\n",
        "        for i in range(self.num_rounds):\n",
        "            resp1 = agent1.respond(agent2)\n",
        "            resp2 = agent2.respond(agent1)\n",
        "\n",
        "            pay1, pay2 = self.payoffs[resp1, resp2]\n",
        "\n",
        "            agent1.append(resp1, pay1)\n",
        "            agent2.append(resp2, pay2)\n",
        "\n",
        "        return agent1.score, agent2.score\n",
        "\n",
        "        #Complexity O(n) where n is the number of rounds in the tournament\n",
        "\n",
        "    def melee(self, agents, randomize=True):\n",
        "        \"\"\"Play each agent against two others.\n",
        "\n",
        "        Assigns the average score from the two games to agent.fitness\n",
        "\n",
        "        agents: sequence of Agents\n",
        "        randomize: boolean, whether to shuffle the agents\n",
        "        \"\"\"\n",
        "        if randomize:\n",
        "            agents = np.random.permutation(agents)\n",
        "\n",
        "        n = len(agents)\n",
        "        i_row = np.arange(n)\n",
        "        j_row = (i_row + 1) % n\n",
        "\n",
        "        totals = np.zeros(n)\n",
        "\n",
        "        for i, j in zip(i_row, j_row):\n",
        "            agent1, agent2 = agents[i], agents[j]\n",
        "            score1, score2 = self.play(agent1, agent2)\n",
        "            totals[i] += score1\n",
        "            totals[j] += score2\n",
        "\n",
        "        for i in i_row:\n",
        "            agents[i].fitness = totals[i] / self.num_rounds / 2\n",
        "\n",
        "        #Complexity O(n) where n is the number of agents to play two other agents"
      ]
    },
    {
      "cell_type": "markdown",
      "metadata": {
        "id": "zsWGdiAHxAY0"
      },
      "source": [
        "### Probability of survival\n",
        "\n",
        "We need a function to map from points per round (0 to 5) to probability of survival (0 to 1).  I'll use a logistic curve.\n",
        "\n",
        "This section is made up of calcuations as such all of it is O(1).\n",
        "\n",
        "*See comment below each method to for found complexity.*"
      ]
    },
    {
      "cell_type": "code",
      "execution_count": 15,
      "metadata": {
        "id": "fzDODfUsxAY0"
      },
      "outputs": [],
      "source": [
        "def logistic(x, A=0, B=1, C=1, M=0, K=1, Q=1, nu=1):\n",
        "    \"\"\"Computes the generalize logistic function.\n",
        "\n",
        "    A: controls the lower bound\n",
        "    B: controls the steepness of the transition\n",
        "    C: not all that useful, AFAIK\n",
        "    M: controls the location of the transition\n",
        "    K: controls the upper bound\n",
        "    Q: shift the transition left or right\n",
        "    nu: affects the symmetry of the transition\n",
        "\n",
        "    returns: float or array\n",
        "    \"\"\"\n",
        "    exponent = -B * (x - M)\n",
        "    denom = C + Q * np.exp(exponent)\n",
        "    return A + (K-A) / denom ** (1/nu)\n",
        "    #Complexity O(1)"
      ]
    },
    {
      "cell_type": "code",
      "execution_count": 16,
      "metadata": {
        "id": "uGp9isZcxAY0"
      },
      "outputs": [],
      "source": [
        "def prob_survive(scores):\n",
        "    \"\"\"Probability of survival, based on fitness.\n",
        "\n",
        "    scores: sequence of scores, 0-60\n",
        "\n",
        "    returns: probability\n",
        "    \"\"\"\n",
        "    return logistic(scores, A=0.7, B=1.5, M=2.5, K=0.9)\n",
        "    #Complexity O(1)"
      ]
    },
    {
      "cell_type": "code",
      "execution_count": 17,
      "metadata": {
        "id": "sV40OKIwxAY0",
        "outputId": "4c671e6e-0a6e-467c-bb6b-71c8c22e71ea",
        "colab": {
          "base_uri": "https://localhost:8080/",
          "height": 0
        }
      },
      "outputs": [
        {
          "output_type": "display_data",
          "data": {
            "text/plain": [
              "<Figure size 640x480 with 1 Axes>"
            ],
            "image/png": "[encoded data removed]"
          },
          "metadata": {}
        }
      ],
      "source": [
        "survive = 0.5\n",
        "scores = np.linspace(0, 5)\n",
        "probs = prob_survive(scores)\n",
        "plt.plot(scores, probs)\n",
        "decorate(xlabel='Score', ylabel='Probability of survival')"
      ]
    },
    {
      "cell_type": "markdown",
      "metadata": {
        "id": "D2HcXMBexAY1"
      },
      "source": [
        "### The simulator\n",
        "\n",
        "The biggest change in the simulator is in `step`, which runs `melee` to determine the fitness of each agent, and `prob_survive` to map from fitness to probability of surviving.\n",
        "\n",
        "\n",
        "This code is made up of a mixture of O(n) code to create agents and steps for the simulator and O(1) code to run the simulation.\n",
        "\n",
        "*See comment below each method for found complexity*"
      ]
    },
    {
      "cell_type": "code",
      "execution_count": 18,
      "metadata": {
        "id": "hH68jE1dxAY1"
      },
      "outputs": [],
      "source": [
        "class PDSimulation(Simulation):\n",
        "\n",
        "    def __init__(self, tournament, agents):\n",
        "        \"\"\"Create the simulation:\n",
        "\n",
        "        tournament: Tournament object\n",
        "        agents: sequence of agents\n",
        "        \"\"\"\n",
        "        self.tournament = tournament\n",
        "        self.agents = np.asarray(agents)\n",
        "        self.instruments = []\n",
        "\n",
        "        #Complexity O(1)\n",
        "\n",
        "    def step(self):\n",
        "        \"\"\"Simulate a time step and update the instruments.\n",
        "        \"\"\"\n",
        "        self.tournament.melee(self.agents)\n",
        "        Simulation.step(self)\n",
        "\n",
        "        #Complexity O(1)\n",
        "\n",
        "    def choose_dead(self, fits):\n",
        "        \"\"\"Choose which agents die in the next timestep.\n",
        "\n",
        "        fits: fitness of each agent\n",
        "\n",
        "        returns: indices of the chosen ones\n",
        "        \"\"\"\n",
        "        ps = prob_survive(fits)\n",
        "        n = len(self.agents)\n",
        "        is_dead = np.random.random(n) < ps\n",
        "        index_dead = np.nonzero(is_dead)[0]\n",
        "        return index_dead\n",
        "\n",
        "        #Complexity O(n) where n is an array containing the fitness of each agent"
      ]
    },
    {
      "cell_type": "markdown",
      "metadata": {
        "id": "BrEdPRWSxAY1"
      },
      "source": [
        "We might want to start with random agents."
      ]
    },
    {
      "cell_type": "code",
      "execution_count": 19,
      "metadata": {
        "id": "edJsxNyKxAY1"
      },
      "outputs": [],
      "source": [
        "def make_random_agents(n):\n",
        "    \"\"\"Make agents with random genotype.\n",
        "\n",
        "    n: number of agents\n",
        "\n",
        "    returns: sequence of agents\n",
        "    \"\"\"\n",
        "    agents = [Agent(np.random.choice(['C', 'D'], size=7))\n",
        "              for _ in range(n)]\n",
        "    return agents\n",
        "\n",
        "    #Complexity O(n) where n is the number of agents we would like to create"
      ]
    },
    {
      "cell_type": "markdown",
      "metadata": {
        "id": "5Xiu5icRxAY1"
      },
      "source": [
        "Or with all identical agents."
      ]
    },
    {
      "cell_type": "code",
      "execution_count": 20,
      "metadata": {
        "id": "vpChOw8kxAY1"
      },
      "outputs": [],
      "source": [
        "def make_identical_agents(n, values):\n",
        "    \"\"\"Make agents with the given genotype.\n",
        "\n",
        "    n: number of agents\n",
        "    values: sequence of 'C' and 'D'\n",
        "\n",
        "    returns: sequence of agents\n",
        "    \"\"\"\n",
        "    agents = [Agent(values) for _ in range(n)]\n",
        "    return agents\n",
        "\n",
        "    #Complexity O(n) where n is the number of agents we would like to create"
      ]
    },
    {
      "cell_type": "markdown",
      "metadata": {
        "id": "zrstqzt-xAY1"
      },
      "source": [
        "Here are the instruments to compute various metrics.\n",
        "\n",
        "`Niceness` is the average number of `C` across the genotypes in the population."
      ]
    },
    {
      "cell_type": "code",
      "execution_count": 21,
      "metadata": {
        "id": "9gt7l7QVxAY9"
      },
      "outputs": [],
      "source": [
        "class Niceness(Instrument):\n",
        "    \"\"\"Fraction of cooperation in all genotypes.\"\"\"\n",
        "    label = 'Niceness'\n",
        "\n",
        "    def update(self, sim):\n",
        "        responses = np.array([agent.values for agent in sim.agents])\n",
        "        metric = np.mean(responses == 'C')\n",
        "        self.metrics.append(metric)\n",
        "    #Complexity O(n) where n is the number of agents we have to run through to get our data"
      ]
    },
    {
      "cell_type": "markdown",
      "metadata": {
        "id": "D5jFHXb3xAY9"
      },
      "source": [
        "`Opening` is the fraction of agents that cooperate in the first round."
      ]
    },
    {
      "cell_type": "code",
      "execution_count": 22,
      "metadata": {
        "id": "4ddL25J8xAY9"
      },
      "outputs": [],
      "source": [
        "class Opening(Instrument):\n",
        "    \"\"\"Fraction of agents that cooperate on the first round.\"\"\"\n",
        "    label = 'Opening'\n",
        "\n",
        "    def update(self, sim):\n",
        "        responses = np.array([agent.values[0] for agent in sim.agents])\n",
        "        metric = np.mean(responses == 'C')\n",
        "        self.metrics.append(metric)\n",
        "    #Complexity O(n) where n is the number of agents we have to run through to get our data"
      ]
    },
    {
      "cell_type": "markdown",
      "metadata": {
        "id": "1K_1cyUaxAY9"
      },
      "source": [
        "`Retaliating` is the difference between (1) the fraction of agents that defect after the opponent defects and (2) the fraction of agents that defect after the opponent cooperates."
      ]
    },
    {
      "cell_type": "code",
      "execution_count": 23,
      "metadata": {
        "id": "siFCZ78lxAY9"
      },
      "outputs": [],
      "source": [
        "class Retaliating(Instrument):\n",
        "    \"\"\"Tendency to defect after opponent defects.\"\"\"\n",
        "    label = 'Retaliating'\n",
        "\n",
        "    def update(self, sim):\n",
        "        after_d = np.array([agent.values[2::2] for agent in sim.agents])\n",
        "        after_c = np.array([agent.values[1::2] for agent in sim.agents])\n",
        "        metric = np.mean(after_d == 'D') - np.mean(after_c == 'D')\n",
        "        self.metrics.append(metric)\n",
        "    #Complexity O(n) where n is the number of agents we have to run through to get our data"
      ]
    },
    {
      "cell_type": "markdown",
      "metadata": {
        "id": "HnGvoteuxAY-"
      },
      "source": [
        "Forgiving is the difference between the number of agents that cooperate after DC minus the number that cooperate after CD."
      ]
    },
    {
      "cell_type": "code",
      "execution_count": 24,
      "metadata": {
        "id": "iEaAAPNCxAY-"
      },
      "outputs": [],
      "source": [
        "class Forgiving(Instrument):\n",
        "    \"\"\"Tendency to cooperate if opponent cooperates after defecting.\"\"\"\n",
        "    label = 'Forgiving'\n",
        "\n",
        "    def update(self, sim):\n",
        "        after_dc = np.array([agent.values[5] for agent in sim.agents])\n",
        "        after_cd = np.array([agent.values[4] for agent in sim.agents])\n",
        "        metric = np.mean(after_dc == 'C') - np.mean(after_cd == 'C')\n",
        "        self.metrics.append(metric)\n",
        "    #Complexity O(n) where n is the number of agents we have to run through to get our data"
      ]
    },
    {
      "cell_type": "markdown",
      "metadata": {
        "id": "9-7SsKptxAY-"
      },
      "source": [
        "Here's another metric intended to measure forgiveness."
      ]
    },
    {
      "cell_type": "code",
      "execution_count": 25,
      "metadata": {
        "id": "O8TVIB8CxAY-"
      },
      "outputs": [],
      "source": [
        "class Forgiving2(Instrument):\n",
        "    \"\"\"Ability to cooperate after the first two rounds.\"\"\"\n",
        "    label = 'Forgiving2'\n",
        "\n",
        "    def update(self, sim):\n",
        "        after_two = np.array([agent.values[3:] for agent in sim.agents])\n",
        "        metric = np.mean(np.any(after_two=='C', axis=1))\n",
        "        self.metrics.append(metric)\n",
        "    #Complexity O(n) where n is the number of agents we have to run through to get our data"
      ]
    },
    {
      "cell_type": "markdown",
      "source": [
        "Plot results is used to show the results overtime for the steps in the simulation"
      ],
      "metadata": {
        "id": "agfMsi5fXx6s"
      }
    },
    {
      "cell_type": "code",
      "execution_count": 26,
      "metadata": {
        "id": "9YSJc-g-xAY-"
      },
      "outputs": [],
      "source": [
        "def plot_result(index, **options):\n",
        "    \"\"\"Plots the results of the indicated instrument.\n",
        "\n",
        "    index: integer\n",
        "    \"\"\"\n",
        "    sim.plot(index, **options)\n",
        "    instrument = sim.instruments[index]\n",
        "    print(np.mean(instrument.metrics[1000:]))\n",
        "    decorate(xlabel='Time steps',\n",
        "                     ylabel=instrument.label)\n",
        "    #Complexity O(1)"
      ]
    },
    {
      "cell_type": "markdown",
      "source": [
        "# Pre Designed Simulation\n",
        "To help explain how the tournament simulation works we created one that runs a tournament of only our backstabbing agent to see what happens with that. To start below we define a tournament with 100 agents, 2500 steps evolution steps, and our backstabbing agent. We also run it with a specific seed to get the same results each time (for demonstration purposes).\n",
        "\n",
        "This section contains no complexity analysis as it calls classes and functions to make up where is needed."
      ],
      "metadata": {
        "id": "Oo2QfwSxaK23"
      }
    },
    {
      "cell_type": "code",
      "source": [
        "tour = Tournament()\n",
        "\n",
        "# User Input\n",
        "number = 100\n",
        "steps = 2500\n",
        "\n",
        "#Makes Agents\n",
        "agents = make_identical_agents(number, list('CDCDCDC'))\n",
        "\n",
        "#Starts Simulation\n",
        "sim = PDSimulation(tour, agents)\n",
        "\n",
        "#Adds Trackers\n",
        "sim.add_instrument(MeanFitness())\n",
        "sim.add_instrument(Niceness())\n",
        "sim.add_instrument(Opening())\n",
        "sim.add_instrument(Retaliating())\n",
        "sim.add_instrument(Forgiving())"
      ],
      "metadata": {
        "id": "xZcxVNARFufa",
        "outputId": "a02804ff-9770-494c-c705-ce759e05e60f",
        "colab": {
          "base_uri": "https://localhost:8080/",
          "height": 211
        }
      },
      "execution_count": 27,
      "outputs": [
        {
          "output_type": "error",
          "ename": "NameError",
          "evalue": "name 'agent' is not defined",
          "traceback": [
            "\u001b[0;31m---------------------------------------------------------------------------\u001b[0m",
            "\u001b[0;31mNameError\u001b[0m                                 Traceback (most recent call last)",
            "\u001b[0;32m<ipython-input-27-fca6056d1f63>\u001b[0m in \u001b[0;36m<cell line: 8>\u001b[0;34m()\u001b[0m\n\u001b[1;32m      6\u001b[0m \u001b[0;34m\u001b[0m\u001b[0m\n\u001b[1;32m      7\u001b[0m \u001b[0;31m#Makes Agents\u001b[0m\u001b[0;34m\u001b[0m\u001b[0;34m\u001b[0m\u001b[0m\n\u001b[0;32m----> 8\u001b[0;31m \u001b[0;32mif\u001b[0m \u001b[0magent\u001b[0m \u001b[0;34m==\u001b[0m \u001b[0;34m\"random\"\u001b[0m\u001b[0;34m:\u001b[0m\u001b[0;34m\u001b[0m\u001b[0;34m\u001b[0m\u001b[0m\n\u001b[0m\u001b[1;32m      9\u001b[0m   \u001b[0mmake_random_agents\u001b[0m\u001b[0;34m(\u001b[0m\u001b[0mnumber\u001b[0m\u001b[0;34m)\u001b[0m\u001b[0;34m\u001b[0m\u001b[0;34m\u001b[0m\u001b[0m\n\u001b[1;32m     10\u001b[0m \u001b[0;32melse\u001b[0m\u001b[0;34m:\u001b[0m\u001b[0;34m\u001b[0m\u001b[0;34m\u001b[0m\u001b[0m\n",
            "\u001b[0;31mNameError\u001b[0m: name 'agent' is not defined"
          ]
        }
      ]
    },
    {
      "cell_type": "code",
      "source": [
        "#Runs simulations with a seed\n",
        "np.random.seed(17)\n",
        "sim.run(steps)"
      ],
      "metadata": {
        "id": "CxzRAvi3GCRq"
      },
      "execution_count": null,
      "outputs": []
    },
    {
      "cell_type": "markdown",
      "source": [
        "The graph below shows that, while at the start our mean score was low, and for a bit it plummited to nearly 1 score per agent, eventually the score ended up around 2.5"
      ],
      "metadata": {
        "id": "aS5BUp_VfZdQ"
      }
    },
    {
      "cell_type": "code",
      "source": [
        "#Displays Mean Fitness\n",
        "plot_result(0, color='C0')\n",
        "plt.show('figs/chap12-1')"
      ],
      "metadata": {
        "id": "WwMK6CrbHhH0"
      },
      "execution_count": null,
      "outputs": []
    },
    {
      "cell_type": "markdown",
      "source": [
        "The Graph below here shows that the niceness of the agents as constantly fluctuating in a small range but most agents ended up being relatively nice."
      ],
      "metadata": {
        "id": "JRUWxewwhWCQ"
      }
    },
    {
      "cell_type": "code",
      "source": [
        "#Shows Niceness (Average number of Cooperators across all agents)\n",
        "plot_result(1, color='C1')"
      ],
      "metadata": {
        "id": "btjNZEZpHjoP"
      },
      "execution_count": null,
      "outputs": []
    },
    {
      "cell_type": "markdown",
      "source": [
        "The graph below here shows that all of our agents started by cooperating at first (which was known) but eventually moved to being mostly but not entirely made up of agents who cooperated at first."
      ],
      "metadata": {
        "id": "dljtpumDhlqm"
      }
    },
    {
      "cell_type": "code",
      "source": [
        "#Shows Opening (Agents who started with cooperation)\n",
        "plot_result(2, color='C2')"
      ],
      "metadata": {
        "id": "s6vYZRkyHsgo"
      },
      "execution_count": null,
      "outputs": []
    },
    {
      "cell_type": "markdown",
      "source": [
        "The graph below shows that, despite not starting with any retaliation, the agents eventually began to be made up of equally as many agents who retaliated as thos who didn't."
      ],
      "metadata": {
        "id": "KIiwq_B9iLSq"
      }
    },
    {
      "cell_type": "code",
      "source": [
        "#Shows Retaliation (Difference between agents who defect after defection and cooperate after defection)\n",
        "plot_result(3, color='C3')"
      ],
      "metadata": {
        "id": "xRkL6xYCHv8G"
      },
      "execution_count": null,
      "outputs": []
    },
    {
      "cell_type": "markdown",
      "source": [
        "At first none of our agents were considered forgiving, yet over time this too moved toward ab equalibrium of forgiving agents and unforgiving ones."
      ],
      "metadata": {
        "id": "UnNTNkZ6iZ3x"
      }
    },
    {
      "cell_type": "code",
      "source": [
        "#Shows average amount of agents who forgive a round or two after defection\n",
        "plot_result(4, color='C4')"
      ],
      "metadata": {
        "id": "ulbkIyQvH0Mr"
      },
      "execution_count": null,
      "outputs": []
    },
    {
      "cell_type": "markdown",
      "source": [
        "And last but not least, this shows that our agents ended up as mostly fully cooperative agents with minor tweaks. Our top three were one that retaliates only after memory has been fully established. One That defects at the start and one that backstabs the opponent if they cooperated at the start."
      ],
      "metadata": {
        "id": "Sh3V9EMhio5Y"
      }
    },
    {
      "cell_type": "code",
      "source": [
        "from pandas import Series\n",
        "\n",
        "responses = [''.join(agent.values) for agent in sim.agents]\n",
        "Series(responses).value_counts()"
      ],
      "metadata": {
        "id": "KeBoho9gJfJZ"
      },
      "execution_count": null,
      "outputs": []
    },
    {
      "cell_type": "markdown",
      "source": [
        "All in all this shows us that over time in a group of agents who begin by always betraying each other they will end up mostly cooperating, only having slight backstabbing tendencies that optimize the points. (See our second most poulated group which takes advantage of the openness of other agents.)"
      ],
      "metadata": {
        "id": "0eqHyn0DjRRv"
      }
    },
    {
      "cell_type": "markdown",
      "source": [
        "# Round Robin Playoffs (ADDED)\n",
        "\n",
        "This is a mixture of code already seen and new code for a round robin tournament with a time complexity of O($n^{2}$).\n",
        "\n",
        "*See comment below each method to for found complexity.*"
      ],
      "metadata": {
        "id": "o3Ez5lgOqupo"
      }
    },
    {
      "cell_type": "code",
      "source": [
        "class PairwiseRoundRobinTournament:\n",
        "    def __init__(self, payoffs, num_rounds=6):\n",
        "        \"\"\"\n",
        "        Initialize the Pairwise Round-Robin Tournament.\n",
        "        payoffs: dict\n",
        "            Payoff matrix for the Prisoner's Dilemma.\n",
        "        num_rounds: int\n",
        "            Number of rounds for each pair.\n",
        "        \"\"\"\n",
        "        self.payoffs = payoffs\n",
        "        self.num_rounds = num_rounds\n",
        "\n",
        "        #Complexity O(1)\n",
        "\n",
        "    def play(self, agent1, agent2):\n",
        "        \"\"\"\n",
        "        Play a sequence of iterated Prisoner's Dilemma rounds between two agents.\n",
        "        agent1, agent2: Agent objects\n",
        "        Returns:\n",
        "            Tuple of scores (agent1_score, agent2_score).\n",
        "        \"\"\"\n",
        "        agent1.reset()\n",
        "        agent2.reset()\n",
        "        for _ in range(self.num_rounds):\n",
        "            resp1 = agent1.respond(agent2)\n",
        "            resp2 = agent2.respond(agent1)\n",
        "            pay1, pay2 = self.payoffs[resp1, resp2]\n",
        "            agent1.append(resp1, pay1)\n",
        "            agent2.append(resp2, pay2)\n",
        "        return agent1.score, agent2.score\n",
        "        #Complexity O(n) where n is the number of rounds in the tournament\n",
        "\n",
        "    def round_robin(self, agents):\n",
        "        \"\"\"\n",
        "        Conduct a full pairwise round-robin tournament.\n",
        "        agents: list of Agent objects\n",
        "        Updates agents' fitness values based on their average scores.\n",
        "        \"\"\"\n",
        "        n = len(agents)\n",
        "        totals = np.zeros(n)\n",
        "        for i in range(n):\n",
        "            for j in range(i, n):\n",
        "                print(f\"Agent {i} ({agents[i].values}) vs Agent {j} ({agents[j].values})\")\n",
        "                score1, score2 = self.play(agents[i], agents[j])\n",
        "                totals[i] += score1\n",
        "                totals[j] += score2\n",
        "        for i in range(n):\n",
        "            agents[i].fitness = totals[i] / (n - 1) / self.num_rounds   # Average score per agent\n",
        "\n",
        "        #Complexity O(n^2) since each agent plays each other agent and itself in this code."
      ],
      "metadata": {
        "id": "FoSqqfseq3NH"
      },
      "execution_count": null,
      "outputs": []
    },
    {
      "cell_type": "code",
      "source": [
        "class PDSimulationWithRoundRobin(PDSimulation):\n",
        "    def __init__(self, tournament, agents):\n",
        "        super().__init__(tournament, agents)\n",
        "        #Complexity O(1)\n",
        "\n",
        "    def step(self):\n",
        "        \"\"\"\n",
        "        Run one step of the simulation.\n",
        "        \"\"\"\n",
        "        # Run the full pairwise round-robin tournament\n",
        "        self.tournament.round_robin(self.agents)\n",
        "        Simulation.step(self)\n",
        "        #Complexity O(1)"
      ],
      "metadata": {
        "id": "q9Or1Ba-q6J9"
      },
      "execution_count": null,
      "outputs": []
    },
    {
      "cell_type": "code",
      "source": [
        "payoffs = {('C', 'C'): (3, 3),\n",
        "           ('C', 'D'): (0, 5),\n",
        "           ('D', 'C'): (5, 0),\n",
        "           ('D', 'D'): (1, 1)}\n",
        "tour = PairwiseRoundRobinTournament(payoffs)\n",
        "tour.play(all_d, all_c)"
      ],
      "metadata": {
        "id": "ZVcHCvusrDHH"
      },
      "execution_count": null,
      "outputs": []
    },
    {
      "cell_type": "code",
      "source": [
        "agents = [all_c, all_d, tft, back, nf, StartDef]\n",
        "\n",
        "tour.round_robin(agents)"
      ],
      "metadata": {
        "id": "fy__TVbFrO_X"
      },
      "execution_count": null,
      "outputs": []
    },
    {
      "cell_type": "code",
      "source": [
        "for agent in agents:\n",
        "  print(agent.values, agent.fitness)"
      ],
      "metadata": {
        "id": "_PgUwtkOr1hl"
      },
      "execution_count": null,
      "outputs": []
    },
    {
      "cell_type": "markdown",
      "source": [
        "#Conclusion/Discussion\n",
        "The Prisoner’s Dilemma is a widely studied framework for understanding behaviors like cooperation and competition (Vinney, 2024). It has real-world applications in psycology, economics, and bussines (Picardo, 2024). Simulations like ours offer a way to explore how different strategies evolve and adapt over time, providing insights into important questions: Why do people cooperate? How do competitive behaviors emerge? What makes a strategy successful in different environments?\n",
        "\n",
        "Our work showed that individual choices can have a big impact on group outcomes. This is important for understanding systems like social cooperation, resource-sharing, and even strategic decision-making in competitive scenarios.\n",
        "This project explored simulations of the Prisoner's Dilemma to study how different strategies interact and evolve over time. By implementing various agent behaviors, including Always Cooperate, Always Defect, Tit-for-Tat, and new strategies like Backstabbing, No Forgiveness, and Start Defection, we gained insight into how these strategies compete and adapt in a population. Enhancements such as the Round-Robin Tournament method allowed us to analyze these interactions more thoroughly and eliminate biases that existed in the original Melee Tournament setup.\n",
        "\n",
        "The Round-Robin Tournament was a key improvement because it ensured every agent interacted with every other agent in the population. This provided a fair evaluation of strategy performance by comparing each strategy’s effectiveness against the entire group. In contrast, the Melee Tournament only considered a limited number of interactions, which could skew results based on random pairings. The results from these simulations showed that balanced strategies like Tit-for-Tat tend to perform well in cooperative environments, while exploitative strategies like Backstabbing thrive only under specific conditions.\n",
        "While this project explored important ideas, there are several directions we could take to expand this work:\n",
        "\n",
        "* Memory-Size-Three Agents: Future work could involve agents that base their decisions on longer histories. This would allow for more complex strategies that detect patterns in opponent behavior over time. Adding this feature would require storing more data for each agent and adjusting their decision-making process. Specifically adding one more turn of memory would require each agent to expand to a string of 16 characters instead of 7. This is because storing three turns of memory when each have 2 choices mean the options for possible three turns is $3^{2} = 9$\n",
        "\n",
        "* New Interactions: Adding more genomes and agent types would provide a richer set of interactions and provide insights into the performance of strategies in varied competitive settings. This would make the simulation not only more comprehensive but also more reflective of real-world complexities. Another option for a new interaction would be adding a number that randomly decides what the response is.\n",
        "\n",
        "* Real-World Applications: Applying the simulation to real-world data, like social networks, could show how these principles work in actual systems and help us make predictions.\n",
        "\n",
        "This project demonstrated the power of simulations for studying strategic interactions in populations. By adding features like the Round-Robin Tournament and memory-based strategies, we deepened our understanding of how cooperation and competition evolve. Expanding this work to include more complex strategies, dynamic environments, or real-world applications could uncover even more insights into the factors that shape behaviors in populations. These findings have practical importance, offering lessons for understanding cooperation and competition in a wide range of systems, from ecosystems to human societies.\n",
        "\n",
        "Below you can find a segment of code that will let you execute a Prisoner's Dilemma problem with your own step length, agent, and number of agents.\n"
      ],
      "metadata": {
        "id": "EqZ5igGuJgDO"
      }
    },
    {
      "cell_type": "markdown",
      "metadata": {
        "id": "kodWVGrzxAY-"
      },
      "source": [
        "## Inputable Code\n",
        "\n",
        "Here's a simulation that runs a chosen amount of a chosen agent (or random).\n"
      ]
    },
    {
      "cell_type": "code",
      "execution_count": null,
      "metadata": {
        "id": "w9DdRc9CxAY-"
      },
      "outputs": [],
      "source": [
        "tour = Tournament()\n",
        "\n",
        "# User Input\n",
        "agent = input(\"Input your 7 letter character string or 'random' for a random group:\")\n",
        "number = int(input(\"Input your number of agents:\"))\n",
        "steps = int(input(\"Enter the number of steps you want the sim to run for:\"))\n",
        "\n",
        "#Makes Agents\n",
        "if agent == \"random\":\n",
        "  agents = make_random_agents(number)\n",
        "else:\n",
        "  agents = make_identical_agents(number, list(agent))\n",
        "\n",
        "#Starts Simulation\n",
        "sim = PDSimulation(tour, agents)\n",
        "\n",
        "#Adds Trackers\n",
        "sim.add_instrument(MeanFitness())\n",
        "sim.add_instrument(Niceness())\n",
        "sim.add_instrument(Opening())\n",
        "sim.add_instrument(Retaliating())\n",
        "sim.add_instrument(Forgiving())"
      ]
    },
    {
      "cell_type": "markdown",
      "metadata": {
        "id": "4KN6QvN-xAY-"
      },
      "source": [
        "Run the simulation.  If you get a warning about `Mean of empty slice`, that's ok."
      ]
    },
    {
      "cell_type": "code",
      "execution_count": null,
      "metadata": {
        "id": "Ry8jTregxAY-"
      },
      "outputs": [],
      "source": [
        "#Runs simulations with a seed\n",
        "np.random.seed(17)\n",
        "sim.run(steps)"
      ]
    },
    {
      "cell_type": "markdown",
      "metadata": {
        "id": "U_7eMTaIxAY-"
      },
      "source": [
        "And let's look at some results."
      ]
    },
    {
      "cell_type": "code",
      "execution_count": null,
      "metadata": {
        "tags": [],
        "id": "H7LfNVafxAY_"
      },
      "outputs": [],
      "source": [
        "#Displays Mean Fitness\n",
        "plot_result(0, color='C0')\n",
        "plt.show('figs/chap12-1')"
      ]
    },
    {
      "cell_type": "code",
      "execution_count": null,
      "metadata": {
        "tags": [],
        "id": "hhvao69IxAY_"
      },
      "outputs": [],
      "source": [
        "#Shows Niceness (Average number of Cooperators across all agents)\n",
        "plot_result(1, color='C1')"
      ]
    },
    {
      "cell_type": "code",
      "execution_count": null,
      "metadata": {
        "tags": [],
        "id": "RRDXT1BLxAY_"
      },
      "outputs": [],
      "source": [
        "#Shows Opening (Agents who started with cooperation)\n",
        "plot_result(2, color='C2')"
      ]
    },
    {
      "cell_type": "code",
      "execution_count": null,
      "metadata": {
        "tags": [],
        "id": "oVyiJ13NxAZA"
      },
      "outputs": [],
      "source": [
        "#Shows Retaliation (Difference between agents who defect after defection and cooperate after defection)\n",
        "plot_result(3, color='C3')"
      ]
    },
    {
      "cell_type": "code",
      "execution_count": null,
      "metadata": {
        "tags": [],
        "id": "UaKjRdfoxAZA"
      },
      "outputs": [],
      "source": [
        "#Shows average amount of agents who forgive a round or two after defection\n",
        "plot_result(4, color='C4')"
      ]
    },
    {
      "cell_type": "markdown",
      "metadata": {
        "id": "OWR_Zw3rxAZA"
      },
      "source": [
        "The following cells explore the composition of the final population.  But because the distribution of agents varies so much over time, the details of a single timestep might not mean much.\n",
        "\n",
        "Here are the final genomes:"
      ]
    },
    {
      "cell_type": "code",
      "execution_count": null,
      "metadata": {
        "id": "rktzNpEYxAZA"
      },
      "outputs": [],
      "source": [
        "from pandas import Series\n",
        "\n",
        "responses = [''.join(agent.values) for agent in sim.agents]\n",
        "Series(responses).value_counts()"
      ]
    },
    {
      "cell_type": "markdown",
      "source": [
        "## References\n",
        "Kretz, T. (2010). A round-robin tournament of the iterated prisoner’s dilemma with complete memory-size-three strategies. Complex Systems, 19(4), 363–389. https://doi.org/10.25088/complexsystems.19.4.363\n",
        "\n",
        "Kuhn, S. (2019, April 2). Prisoner’s dilemma. Stanford Encyclopedia of Philosophy. https://plato.stanford.edu/entries/prisoner-dilemma/\n",
        "\n",
        "Picardo, E. (2024, August 28). The prisoner’s dilemma in business and the economy. Investopedia. https://www.investopedia.com/articles/investing/110513/utilizing-prisoners-dilemma-business-and-economy.asp\n",
        "\n",
        "Sussex Publishers. (n.d.). The prisoner’s dilemma in everyday life. Psychology Today. https://www.psychologytoday.com/us/blog/darwins-subterranean-world/202112/the-prisoners-dilemma-in-everyday-life\n",
        "\n",
        "Tobin, J. (n.d.). The prisoner’s dilemma. University of Michigan Heritage Project. https://heritage.umich.edu/stories/the-prisoners-dilemma/\n",
        "\n",
        "Vinney, C. (2024, August 29). What the prisoner’s dilemma teaches us about human behavior. Verywell Mind. https://www.verywellmind.com/prisoners-dilemma-8697893"
      ],
      "metadata": {
        "id": "Fy6S2BnvJiNp"
      }
    }
  ],
  "metadata": {
    "anaconda-cloud": {},
    "kernelspec": {
      "display_name": "Python 3",
      "language": "python",
      "name": "python3"
    },
    "language_info": {
      "codemirror_mode": {
        "name": "ipython",
        "version": 3
      },
      "file_extension": ".py",
      "mimetype": "text/x-python",
      "name": "python",
      "nbconvert_exporter": "python",
      "pygments_lexer": "ipython3",
      "version": "3.8.3-final"
    },
    "colab": {
      "provenance": [],
      "collapsed_sections": [
        "WR_tufC3xAYw",
        "JOVmpecYxAYx",
        "zsWGdiAHxAY0",
        "D2HcXMBexAY1"
      ],
      "include_colab_link": true
    }
  },
  "nbformat": 4,
  "nbformat_minor": 0
}