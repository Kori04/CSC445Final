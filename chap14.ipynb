{
  "cells": [
    {
      "cell_type": "markdown",
      "metadata": {
        "id": "view-in-github",
        "colab_type": "text"
      },
      "source": [
        "<a href=\"https://colab.research.google.com/github/Kori04/CSC445Final/blob/main/chap14.ipynb\" target=\"_parent\"><img src=\"https://colab.research.google.com/assets/colab-badge.svg\" alt=\"Open In Colab\"/></a>"
      ]
    },
    {
      "cell_type": "markdown",
      "metadata": {
        "id": "-dNq2eCCxAYu"
      },
      "source": [
        "# Evolution of cooperation\n",
        "\n",
        "Code examples from [Think Complexity, 2nd edition](https://thinkcomplex.com).\n",
        "\n",
        "Copyright 2016 Allen Downey, [MIT License](http://opensource.org/licenses/MIT)"
      ]
    },
    {
      "cell_type": "markdown",
      "source": [
        "# Introduction\n",
        "The Prisoner's Dilemma is a game theory problem which analyzes what people will do when presented with the choice to perform an act in secret which can get them larger payoffs if the other player(s) don't do the same thing. In the version the game gets its name from, two prisoners are presented a choice, they can either snitch or not snitch. If both choose to not snitch they will each get an equally long sentence of four years. If one chooses to snitch and the other doesn't the one who snitches will get one year and the one who didn't will get 6 years. However, if they both choose to snitch they will each get 5 years. So, what is the optimal choice? That is what this will explore looking at both long term and short terms games of the prisoner's dilemma.\n",
        "\n",
        "The way we simulate this is by utilizing a tournament style to determine which Prisoner's Dilemma strategies come out on top after playing for a length of chosen time. We do this by killing off the weakest strategies and slightly changing strategies that did well to figure out the best over time.  We analyze this overtime evolution using 5 data sets.\n",
        "\n",
        "\n",
        "*   Mean Fitness - This is the average score of all agents over time\n",
        "*   Niceness - Average number of Cs in agents across all agents\n",
        "*   Opening - Average number of agents who started by cooperating\n",
        "*   Retaliation - Difference between number of agents who when snitched on, retaliate on the next step and who cooperate\n",
        "*   Forgiving - Average number of agents who forgive defection while the defection is still in memory\n",
        "\n",
        "These five data points allow us to closely view what changes in agents over time and what types of strategies will come out on top. In early tournaments different agents were submitted and pitted against each other to see what would come out on top. We have recreated a similar experiment below but for now you just need to know in the original experiment Tit for Tat (TfT) came out on top.\n",
        "\n",
        "Agents are composed of 7 Cs and or Ds with each one telling it what to do based on the oponent's last two actions. Let us break this down by looking at TfT and what its Cooperate (Cs) and Defect (Ds) can tell us about it.\n",
        "\n",
        "The Seven letter string for TfT is as follows, 'CCDCDCD'\n",
        "- The First C means it will always start by cooperating\n",
        "- The Second C means that if the opponent chooses to Cooperate then TfT will cooperate again on the second move\n",
        "- The First D means that, if the opponent chooses to defect in the first move then TfT will defect on the second move\n",
        "\n",
        "From here the rest of these letters will apply to the last two moves the opponent made starting with,\n",
        "- The Third C means that if the opponent cooperated for the past two moves than TfT will as well\n",
        "- The Second D means that if the opponent cooperated and then defected then TfT will defect on the next move\n",
        "- The Final C meants that if the opponent defected and then cooperated then TfT will cooperate again\n",
        "- And the final D means that if the opponent defected twice recently then TfT will defect.\n",
        "\n",
        "This makes Tit for Tat a strategy that will cooperate, but it isn't nieve as it will retaliate if something defects. But it also is forgiving, meaning that if the opponent after defecting goes back cooperating then TfT will as well."
      ],
      "metadata": {
        "id": "VwI2HsiGIn4E"
      }
    },
    {
      "cell_type": "markdown",
      "source": [
        "# Primary Writeup\n",
        "\n",
        "This should include the Set-Up Code and Simulation itself (including a pre determined)\n",
        "\n",
        "Simulate\n",
        "\n",
        "\n",
        "\n"
      ],
      "metadata": {
        "id": "Ln6JMe3_Ink3"
      }
    },
    {
      "cell_type": "markdown",
      "metadata": {
        "id": "WR_tufC3xAYw"
      },
      "source": [
        "### Previous code (Untouched)\n",
        "\n",
        "From the Chapter 11 notebook, we will reuse `Simulation` and `Instrument`."
      ]
    },
    {
      "cell_type": "code",
      "execution_count": 1,
      "metadata": {
        "id": "oKgn6erixAYw"
      },
      "outputs": [],
      "source": [
        "class Simulation:\n",
        "\n",
        "    def __init__(self, fit_land, agents):\n",
        "        \"\"\"Create the simulation:\n",
        "\n",
        "        fit_land: fit_land\n",
        "        num_agents: int number of agents\n",
        "        agent_maker: function that makes agents\n",
        "        \"\"\"\n",
        "        self.fit_land = fit_land\n",
        "        self.agents = np.asarray(agents)\n",
        "        self.instruments = []\n",
        "\n",
        "    def add_instrument(self, instrument):\n",
        "        \"\"\"Adds an instrument to the list.\n",
        "\n",
        "        instrument: Instrument object\n",
        "        \"\"\"\n",
        "        self.instruments.append(instrument)\n",
        "\n",
        "    def plot(self, index, *args, **kwargs):\n",
        "        \"\"\"Plot the results from the indicated instrument.\n",
        "        \"\"\"\n",
        "        self.instruments[index].plot(*args, **kwargs)\n",
        "\n",
        "    def run(self, num_steps=500):\n",
        "        \"\"\"Run the given number of steps.\n",
        "\n",
        "        num_steps: integer\n",
        "        \"\"\"\n",
        "        # initialize any instruments before starting\n",
        "        self.update_instruments()\n",
        "\n",
        "        for _ in range(num_steps):\n",
        "            self.step()\n",
        "\n",
        "    def step(self):\n",
        "        \"\"\"Simulate a time step and update the instruments.\n",
        "        \"\"\"\n",
        "        n = len(self.agents)\n",
        "        fits = self.get_fitnesses()\n",
        "\n",
        "        # see who dies\n",
        "        index_dead = self.choose_dead(fits)\n",
        "        num_dead = len(index_dead)\n",
        "\n",
        "        # replace the dead with copies of the living\n",
        "        replacements = self.choose_replacements(num_dead, fits)\n",
        "        self.agents[index_dead] = replacements\n",
        "\n",
        "        # update any instruments\n",
        "        self.update_instruments()\n",
        "\n",
        "    def update_instruments(self):\n",
        "        for instrument in self.instruments:\n",
        "            instrument.update(self)\n",
        "\n",
        "    def get_locs(self):\n",
        "        \"\"\"Returns a list of agent locations.\"\"\"\n",
        "        return [tuple(agent.loc) for agent in self.agents]\n",
        "\n",
        "    def get_fitnesses(self):\n",
        "        \"\"\"Returns an array of agent fitnesses.\"\"\"\n",
        "        fits = [agent.fitness for agent in self.agents]\n",
        "        return np.array(fits)\n",
        "\n",
        "    def choose_dead(self, ps):\n",
        "        \"\"\"Choose which agents die in the next timestep.\n",
        "\n",
        "        ps: probability of survival for each agent\n",
        "\n",
        "        returns: indices of the chosen ones\n",
        "        \"\"\"\n",
        "        n = len(self.agents)\n",
        "        is_dead = np.random.random(n) < 0.1\n",
        "        index_dead = np.nonzero(is_dead)[0]\n",
        "        return index_dead\n",
        "\n",
        "    def choose_replacements(self, n, weights):\n",
        "        \"\"\"Choose which agents reproduce in the next timestep.\n",
        "\n",
        "        n: number of choices\n",
        "        weights: array of weights\n",
        "\n",
        "        returns: sequence of Agent objects\n",
        "        \"\"\"\n",
        "        agents = np.random.choice(self.agents, size=n, replace=True)\n",
        "        replacements = [agent.copy() for agent in agents]\n",
        "        return replacements"
      ]
    },
    {
      "cell_type": "code",
      "execution_count": 2,
      "metadata": {
        "id": "WlkxPDHDxAYw"
      },
      "outputs": [],
      "source": [
        "class Instrument:\n",
        "    \"\"\"Computes a metric at each timestep.\"\"\"\n",
        "\n",
        "    def __init__(self):\n",
        "        self.metrics = []\n",
        "\n",
        "    def update(self, sim):\n",
        "        \"\"\"Compute the current metric.\n",
        "\n",
        "        Appends to self.metrics.\n",
        "\n",
        "        sim: Simulation object\n",
        "        \"\"\"\n",
        "        # child classes should implement this method\n",
        "        pass\n",
        "\n",
        "    def plot(self, **options):\n",
        "        plt.plot(self.metrics, **options)"
      ]
    },
    {
      "cell_type": "code",
      "execution_count": 3,
      "metadata": {
        "id": "SyTEucD6xAYx"
      },
      "outputs": [],
      "source": [
        "class MeanFitness(Instrument):\n",
        "    \"\"\"Computes mean fitness at each timestep.\"\"\"\n",
        "    label = 'Mean fitness'\n",
        "\n",
        "    def update(self, sim):\n",
        "        mean = np.nanmean(sim.get_fitnesses())\n",
        "        self.metrics.append(mean)"
      ]
    },
    {
      "cell_type": "code",
      "execution_count": 4,
      "metadata": {
        "id": "53495aVXxAYv",
        "outputId": "e098f060-d17a-4929-fb96-6af5130c0159",
        "colab": {
          "base_uri": "https://localhost:8080/"
        }
      },
      "outputs": [
        {
          "output_type": "stream",
          "name": "stdout",
          "text": [
            "--2024-12-05 00:37:33--  https://raw.githubusercontent.com/AllenDowney/ThinkComplexity2/master/notebooks/utils.py\n",
            "Resolving raw.githubusercontent.com (raw.githubusercontent.com)... 185.199.108.133, 185.199.109.133, 185.199.110.133, ...\n",
            "Connecting to raw.githubusercontent.com (raw.githubusercontent.com)|185.199.108.133|:443... connected.\n",
            "HTTP request sent, awaiting response... 200 OK\n",
            "Length: 2645 (2.6K) [text/plain]\n",
            "Saving to: ‘utils.py’\n",
            "\n",
            "\rutils.py              0%[                    ]       0  --.-KB/s               \rutils.py            100%[===================>]   2.58K  --.-KB/s    in 0s      \n",
            "\n",
            "2024-12-05 00:37:34 (38.2 MB/s) - ‘utils.py’ saved [2645/2645]\n",
            "\n"
          ]
        }
      ],
      "source": [
        "import os\n",
        "if not os.path.exists('utils.py'):\n",
        "    !wget https://raw.githubusercontent.com/AllenDowney/ThinkComplexity2/master/notebooks/utils.py\n",
        "%matplotlib inline\n",
        "\n",
        "import matplotlib.pyplot as plt\n",
        "import networkx as nx\n",
        "import numpy as np\n",
        "import seaborn as sns\n",
        "\n",
        "from utils import decorate\n",
        "\n",
        "# I set the random seed so the notebook\n",
        "# produces the same results every time.\n",
        "np.random.seed(17)"
      ]
    },
    {
      "cell_type": "markdown",
      "metadata": {
        "id": "JOVmpecYxAYx"
      },
      "source": [
        "### PD Agent\n",
        "\n",
        "The genome of a Prisoner's Dilemma-playing agent is a map from the previous choices of the opponent to the agent's next choice."
      ]
    },
    {
      "cell_type": "code",
      "execution_count": 5,
      "metadata": {
        "id": "7F2U8OlrxAYx"
      },
      "outputs": [],
      "source": [
        "class Agent:\n",
        "\n",
        "    keys = [(None, None),\n",
        "            (None, 'C'),\n",
        "            (None, 'D'),\n",
        "            ('C', 'C'),\n",
        "            ('C', 'D'),\n",
        "            ('D', 'C'),\n",
        "            ('D', 'D')]\n",
        "\n",
        "    def __init__(self, values, fitness=np.nan):\n",
        "        \"\"\"Initialize the agent.\n",
        "\n",
        "        values: sequence of 'C' and 'D'\n",
        "        \"\"\"\n",
        "        self.values = values\n",
        "        self.responses = dict(zip(self.keys, values))\n",
        "        self.fitness = fitness\n",
        "\n",
        "    def reset(self):\n",
        "        \"\"\"Reset variables before a sequence of games.\n",
        "        \"\"\"\n",
        "        self.hist = [None, None]\n",
        "        self.score = 0\n",
        "\n",
        "    def past_responses(self, num=2):\n",
        "        \"\"\"Select the given number of most recent responses.\n",
        "\n",
        "        num: integer number of responses\n",
        "\n",
        "        returns: sequence of 'C' and 'D'\n",
        "        \"\"\"\n",
        "        return tuple(self.hist[-num:])\n",
        "\n",
        "    def respond(self, other):\n",
        "        \"\"\"Choose a response based on the opponent's recent responses.\n",
        "\n",
        "        other: Agent\n",
        "\n",
        "        returns: 'C' or 'D'\n",
        "        \"\"\"\n",
        "        key = other.past_responses()\n",
        "        resp = self.responses[key]\n",
        "        return resp\n",
        "\n",
        "    def append(self, resp, pay):\n",
        "        \"\"\"Update based on the last response and payoff.\n",
        "\n",
        "        resp: 'C' or 'D'\n",
        "        pay: number\n",
        "        \"\"\"\n",
        "        self.hist.append(resp)\n",
        "        self.score += pay\n",
        "\n",
        "    def copy(self, prob_mutate=0.05):\n",
        "        \"\"\"Make a copy of this agent.\n",
        "        \"\"\"\n",
        "        if np.random.random() > prob_mutate:\n",
        "            values = self.values\n",
        "        else:\n",
        "            values = self.mutate()\n",
        "        return Agent(values, self.fitness)\n",
        "\n",
        "    def mutate(self):\n",
        "        \"\"\"Makes a copy of this agent's values, with one mutation.\n",
        "\n",
        "        returns: sequence of 'C' and 'D'\n",
        "        \"\"\"\n",
        "        values = list(self.values)\n",
        "        index = np.random.choice(len(values))\n",
        "        values[index] = 'C' if values[index] == 'D' else 'D'\n",
        "        return values"
      ]
    },
    {
      "cell_type": "code",
      "source": [],
      "metadata": {
        "id": "KUCfcn9_FFv4"
      },
      "execution_count": 5,
      "outputs": []
    },
    {
      "cell_type": "markdown",
      "source": [
        "### Special Agents"
      ],
      "metadata": {
        "id": "AStGVt9eBsB9"
      }
    },
    {
      "cell_type": "markdown",
      "metadata": {
        "id": "kRn0lhI6xAYx"
      },
      "source": [
        "Here's the genome for \"always cooperate\""
      ]
    },
    {
      "cell_type": "code",
      "execution_count": 6,
      "metadata": {
        "id": "M37UFl42xAYx",
        "outputId": "78c058b4-8708-4e1b-aa2b-774f6a0416cc",
        "colab": {
          "base_uri": "https://localhost:8080/"
        }
      },
      "outputs": [
        {
          "output_type": "execute_result",
          "data": {
            "text/plain": [
              "{(None, None): 'C',\n",
              " (None, 'C'): 'C',\n",
              " (None, 'D'): 'C',\n",
              " ('C', 'C'): 'C',\n",
              " ('C', 'D'): 'C',\n",
              " ('D', 'C'): 'C',\n",
              " ('D', 'D'): 'C'}"
            ]
          },
          "metadata": {},
          "execution_count": 6
        }
      ],
      "source": [
        "all_c = Agent('CCCCCCC')\n",
        "all_c.responses"
      ]
    },
    {
      "cell_type": "markdown",
      "metadata": {
        "id": "Yl2-p8tcxAYy"
      },
      "source": [
        "And for \"always defect\""
      ]
    },
    {
      "cell_type": "code",
      "execution_count": 7,
      "metadata": {
        "id": "r6edX1QKxAYy",
        "outputId": "34a2c164-872b-4059-a111-6e319b630d07",
        "colab": {
          "base_uri": "https://localhost:8080/"
        }
      },
      "outputs": [
        {
          "output_type": "execute_result",
          "data": {
            "text/plain": [
              "{(None, None): 'D',\n",
              " (None, 'C'): 'D',\n",
              " (None, 'D'): 'D',\n",
              " ('C', 'C'): 'D',\n",
              " ('C', 'D'): 'D',\n",
              " ('D', 'C'): 'D',\n",
              " ('D', 'D'): 'D'}"
            ]
          },
          "metadata": {},
          "execution_count": 7
        }
      ],
      "source": [
        "all_d = Agent('DDDDDDD')\n",
        "all_d.responses"
      ]
    },
    {
      "cell_type": "markdown",
      "metadata": {
        "id": "istIDaiQxAYy"
      },
      "source": [
        "And for \"tit for tat\""
      ]
    },
    {
      "cell_type": "code",
      "execution_count": 8,
      "metadata": {
        "id": "s8sNyiT1xAYy",
        "outputId": "fd1fffd6-dbf0-4e80-92f5-ce3438eb7743",
        "colab": {
          "base_uri": "https://localhost:8080/"
        }
      },
      "outputs": [
        {
          "output_type": "execute_result",
          "data": {
            "text/plain": [
              "{(None, None): 'C',\n",
              " (None, 'C'): 'C',\n",
              " (None, 'D'): 'D',\n",
              " ('C', 'C'): 'C',\n",
              " ('C', 'D'): 'D',\n",
              " ('D', 'C'): 'C',\n",
              " ('D', 'D'): 'D'}"
            ]
          },
          "metadata": {},
          "execution_count": 8
        }
      ],
      "source": [
        "tft = Agent('CCDCDCD')\n",
        "tft.responses"
      ]
    },
    {
      "cell_type": "markdown",
      "source": [
        "And For No Forgiveness #Added"
      ],
      "metadata": {
        "id": "tx2h66LK7ejC"
      }
    },
    {
      "cell_type": "code",
      "source": [
        "nf = Agent('CCDCDDD')\n",
        "nf.responses"
      ],
      "metadata": {
        "colab": {
          "base_uri": "https://localhost:8080/"
        },
        "id": "QmAUVKCi7nhU",
        "outputId": "9ca20a39-0dfe-4717-e44c-52b36fb7ba95"
      },
      "execution_count": 9,
      "outputs": [
        {
          "output_type": "execute_result",
          "data": {
            "text/plain": [
              "{(None, None): 'C',\n",
              " (None, 'C'): 'C',\n",
              " (None, 'D'): 'D',\n",
              " ('C', 'C'): 'C',\n",
              " ('C', 'D'): 'D',\n",
              " ('D', 'C'): 'D',\n",
              " ('D', 'D'): 'D'}"
            ]
          },
          "metadata": {},
          "execution_count": 9
        }
      ]
    },
    {
      "cell_type": "markdown",
      "source": [
        "And For \"Backstabbing\" #Added"
      ],
      "metadata": {
        "id": "Y_gsZ6ZW8fXR"
      }
    },
    {
      "cell_type": "code",
      "source": [
        "back = Agent('CDCDCDC')\n",
        "back.responses"
      ],
      "metadata": {
        "colab": {
          "base_uri": "https://localhost:8080/"
        },
        "id": "jQRQ0c558i1y",
        "outputId": "9cb9cf73-8b3e-4361-9490-b3fa99a89af4"
      },
      "execution_count": 10,
      "outputs": [
        {
          "output_type": "execute_result",
          "data": {
            "text/plain": [
              "{(None, None): 'C',\n",
              " (None, 'C'): 'D',\n",
              " (None, 'D'): 'C',\n",
              " ('C', 'C'): 'D',\n",
              " ('C', 'D'): 'C',\n",
              " ('D', 'C'): 'D',\n",
              " ('D', 'D'): 'C'}"
            ]
          },
          "metadata": {},
          "execution_count": 10
        }
      ]
    },
    {
      "cell_type": "markdown",
      "source": [
        "And For Start Defection #Added"
      ],
      "metadata": {
        "id": "c2GFNwiyE4bG"
      }
    },
    {
      "cell_type": "code",
      "source": [
        "StartDef = Agent(\"DCCCCCC\")\n",
        "StartDef.responses"
      ],
      "metadata": {
        "colab": {
          "base_uri": "https://localhost:8080/"
        },
        "id": "daJWk96PsHcP",
        "outputId": "1a7c8e65-e39d-404d-8e4c-20aa640a6089"
      },
      "execution_count": 11,
      "outputs": [
        {
          "output_type": "execute_result",
          "data": {
            "text/plain": [
              "{(None, None): 'D',\n",
              " (None, 'C'): 'C',\n",
              " (None, 'D'): 'C',\n",
              " ('C', 'C'): 'C',\n",
              " ('C', 'D'): 'C',\n",
              " ('D', 'C'): 'C',\n",
              " ('D', 'D'): 'C'}"
            ]
          },
          "metadata": {},
          "execution_count": 11
        }
      ]
    },
    {
      "cell_type": "markdown",
      "metadata": {
        "id": "SzR6Lrs3xAYz"
      },
      "source": [
        "The `copy` method has some probability of generating a mutation (in this example, `values` is initially a string; after mutation, it's a NumPy array of letters)."
      ]
    },
    {
      "cell_type": "code",
      "execution_count": 12,
      "metadata": {
        "tags": [],
        "id": "mut5SyMExAYz",
        "outputId": "98ea7058-1a1c-4ec0-e7cc-ee3f5bd000ea",
        "colab": {
          "base_uri": "https://localhost:8080/"
        }
      },
      "outputs": [
        {
          "output_type": "stream",
          "name": "stdout",
          "text": [
            "DDDDDDD\n",
            "DDDDDDD\n",
            "DDDDDDD\n",
            "DDDDDDD\n",
            "DDDDDDD\n",
            "DDDDDDD\n",
            "DDDDDDD\n",
            "DDDDDDD\n",
            "['D', 'C', 'D', 'D', 'D', 'D', 'D']\n",
            "['D', 'D', 'C', 'D', 'D', 'D', 'D']\n"
          ]
        }
      ],
      "source": [
        "np.random.seed(17)\n",
        "for i in range(10):\n",
        "    print(all_d.copy().values)"
      ]
    },
    {
      "cell_type": "code",
      "execution_count": 13,
      "metadata": {
        "id": "vhiaKmsvxAYz",
        "outputId": "e2f46a30-c85a-4d28-9f47-f2d74bae9d63",
        "colab": {
          "base_uri": "https://localhost:8080/"
        }
      },
      "outputs": [
        {
          "output_type": "execute_result",
          "data": {
            "text/plain": [
              "57"
            ]
          },
          "metadata": {},
          "execution_count": 13
        }
      ],
      "source": [
        "np.sum([all_d.copy().values != all_d.values for i in range(1000)])"
      ]
    },
    {
      "cell_type": "markdown",
      "metadata": {
        "id": "HVkYEHTYxAYz"
      },
      "source": [
        "### The Tournament\n",
        "\n",
        "`Tournament` encapsulates the rules for the tournament."
      ]
    },
    {
      "cell_type": "code",
      "execution_count": 14,
      "metadata": {
        "id": "KC3C0xV0xAYz"
      },
      "outputs": [],
      "source": [
        "class Tournament:\n",
        "\n",
        "    payoffs = {('C', 'C'): (3, 3),\n",
        "               ('C', 'D'): (0, 5),\n",
        "               ('D', 'C'): (5, 0),\n",
        "               ('D', 'D'): (1, 1)}\n",
        "\n",
        "    num_rounds = 6\n",
        "\n",
        "    def play(self, agent1, agent2):\n",
        "        \"\"\"Play a sequence of iterated PD rounds.\n",
        "\n",
        "        agent1: Agent\n",
        "        agent2: Agent\n",
        "\n",
        "        returns: tuple of agent1's score, agent2's score\n",
        "        \"\"\"\n",
        "        agent1.reset()\n",
        "        agent2.reset()\n",
        "\n",
        "        for i in range(self.num_rounds):\n",
        "            resp1 = agent1.respond(agent2)\n",
        "            resp2 = agent2.respond(agent1)\n",
        "\n",
        "            pay1, pay2 = self.payoffs[resp1, resp2]\n",
        "\n",
        "            agent1.append(resp1, pay1)\n",
        "            agent2.append(resp2, pay2)\n",
        "\n",
        "        return agent1.score, agent2.score\n",
        "\n",
        "    def melee(self, agents, randomize=True):\n",
        "        \"\"\"Play each agent against two others.\n",
        "\n",
        "        Assigns the average score from the two games to agent.fitness\n",
        "\n",
        "        agents: sequence of Agents\n",
        "        randomize: boolean, whether to shuffle the agents\n",
        "        \"\"\"\n",
        "        if randomize:\n",
        "            agents = np.random.permutation(agents)\n",
        "\n",
        "        n = len(agents)\n",
        "        i_row = np.arange(n)\n",
        "        j_row = (i_row + 1) % n\n",
        "\n",
        "        totals = np.zeros(n)\n",
        "\n",
        "        for i, j in zip(i_row, j_row):\n",
        "            agent1, agent2 = agents[i], agents[j]\n",
        "            score1, score2 = self.play(agent1, agent2)\n",
        "            totals[i] += score1\n",
        "            totals[j] += score2\n",
        "\n",
        "        for i in i_row:\n",
        "            agents[i].fitness = totals[i] / self.num_rounds / 2"
      ]
    },
    {
      "cell_type": "markdown",
      "metadata": {
        "id": "ArocfOy7xAYz"
      },
      "source": [
        "We can test `Tournament` with a few known scenarios."
      ]
    },
    {
      "cell_type": "code",
      "execution_count": 15,
      "metadata": {
        "id": "JdshOqVmxAYz",
        "outputId": "5bfb5c68-cace-477b-941a-b162df87d165",
        "colab": {
          "base_uri": "https://localhost:8080/"
        }
      },
      "outputs": [
        {
          "output_type": "execute_result",
          "data": {
            "text/plain": [
              "(30, 0)"
            ]
          },
          "metadata": {},
          "execution_count": 15
        }
      ],
      "source": [
        "tour = Tournament()\n",
        "tour.play(all_d, all_c)"
      ]
    },
    {
      "cell_type": "code",
      "execution_count": 16,
      "metadata": {
        "id": "StQJX_GcxAYz",
        "outputId": "5b242a5e-05eb-4314-97f0-29e52b269e2e",
        "colab": {
          "base_uri": "https://localhost:8080/"
        }
      },
      "outputs": [
        {
          "output_type": "execute_result",
          "data": {
            "text/plain": [
              "(10, 5)"
            ]
          },
          "metadata": {},
          "execution_count": 16
        }
      ],
      "source": [
        "tour.play(all_d, tft)"
      ]
    },
    {
      "cell_type": "code",
      "execution_count": 17,
      "metadata": {
        "id": "DkuMXy6txAY0",
        "outputId": "f17ebae5-1ff0-495a-a81c-19efe6d1e118",
        "colab": {
          "base_uri": "https://localhost:8080/"
        }
      },
      "outputs": [
        {
          "output_type": "execute_result",
          "data": {
            "text/plain": [
              "(18, 18)"
            ]
          },
          "metadata": {},
          "execution_count": 17
        }
      ],
      "source": [
        "tour.play(tft, all_c)"
      ]
    },
    {
      "cell_type": "markdown",
      "metadata": {
        "id": "rUv3208sxAY0"
      },
      "source": [
        "And then test `melee` with a list of three agents."
      ]
    },
    {
      "cell_type": "code",
      "execution_count": 18,
      "metadata": {
        "id": "yY940g9PxAY0",
        "outputId": "f1cd4257-3713-44c6-8713-0ee147ed3ff7",
        "colab": {
          "base_uri": "https://localhost:8080/"
        }
      },
      "outputs": [
        {
          "output_type": "execute_result",
          "data": {
            "text/plain": [
              "[<__main__.Agent at 0x7cd94bc696f0>,\n",
              " <__main__.Agent at 0x7cd94bc6a620>,\n",
              " <__main__.Agent at 0x7cd94bc68dc0>]"
            ]
          },
          "metadata": {},
          "execution_count": 18
        }
      ],
      "source": [
        "agents = [all_c, all_d, tft]\n",
        "agents"
      ]
    },
    {
      "cell_type": "code",
      "execution_count": 19,
      "metadata": {
        "id": "rndcwdAAxAY0"
      },
      "outputs": [],
      "source": [
        "tour.melee(agents)"
      ]
    },
    {
      "cell_type": "markdown",
      "metadata": {
        "id": "jzfi9-f8xAY0"
      },
      "source": [
        "In this population, \"always defect\" does best."
      ]
    },
    {
      "cell_type": "code",
      "execution_count": 20,
      "metadata": {
        "tags": [],
        "id": "i0KLjQ4dxAY0",
        "outputId": "846c189e-1ec4-4f43-e4cc-14ac8ecb88de",
        "colab": {
          "base_uri": "https://localhost:8080/"
        }
      },
      "outputs": [
        {
          "output_type": "stream",
          "name": "stdout",
          "text": [
            "CCCCCCC 1.5\n",
            "DDDDDDD 3.3333333333333335\n",
            "CCDCDCD 1.9166666666666667\n"
          ]
        }
      ],
      "source": [
        "for agent in agents:\n",
        "    print(agent.values, agent.fitness)"
      ]
    },
    {
      "cell_type": "markdown",
      "metadata": {
        "id": "zsWGdiAHxAY0"
      },
      "source": [
        "### Probability of survival\n",
        "\n",
        "We need a function to map from points per round (0 to 5) to probability of survival (0 to 1).  I'll use a logistic curve."
      ]
    },
    {
      "cell_type": "code",
      "execution_count": 21,
      "metadata": {
        "id": "fzDODfUsxAY0"
      },
      "outputs": [],
      "source": [
        "def logistic(x, A=0, B=1, C=1, M=0, K=1, Q=1, nu=1):\n",
        "    \"\"\"Computes the generalize logistic function.\n",
        "\n",
        "    A: controls the lower bound\n",
        "    B: controls the steepness of the transition\n",
        "    C: not all that useful, AFAIK\n",
        "    M: controls the location of the transition\n",
        "    K: controls the upper bound\n",
        "    Q: shift the transition left or right\n",
        "    nu: affects the symmetry of the transition\n",
        "\n",
        "    returns: float or array\n",
        "    \"\"\"\n",
        "    exponent = -B * (x - M)\n",
        "    denom = C + Q * np.exp(exponent)\n",
        "    return A + (K-A) / denom ** (1/nu)"
      ]
    },
    {
      "cell_type": "code",
      "execution_count": 22,
      "metadata": {
        "id": "uGp9isZcxAY0"
      },
      "outputs": [],
      "source": [
        "def prob_survive(scores):\n",
        "    \"\"\"Probability of survival, based on fitness.\n",
        "\n",
        "    scores: sequence of scores, 0-60\n",
        "\n",
        "    returns: probability\n",
        "    \"\"\"\n",
        "    return logistic(scores, A=0.7, B=1.5, M=2.5, K=0.9)"
      ]
    },
    {
      "cell_type": "code",
      "execution_count": 23,
      "metadata": {
        "id": "sV40OKIwxAY0",
        "outputId": "f819e096-8cc1-4a6b-80b9-3784bfce3f1b",
        "colab": {
          "base_uri": "https://localhost:8080/",
          "height": 0
        }
      },
      "outputs": [
        {
          "output_type": "display_data",
          "data": {
            "text/plain": [
              "<Figure size 640x480 with 1 Axes>"
            ],
            "image/png": "[encoded data removed]"
          },
          "metadata": {}
        }
      ],
      "source": [
        "survive = 0.5\n",
        "scores = np.linspace(0, 5)\n",
        "probs = prob_survive(scores)\n",
        "plt.plot(scores, probs)\n",
        "decorate(xlabel='Score', ylabel='Probability of survival')"
      ]
    },
    {
      "cell_type": "markdown",
      "metadata": {
        "id": "D2HcXMBexAY1"
      },
      "source": [
        "### The simulator\n",
        "\n",
        "The biggest change in the simulator is in `step`, which runs `melee` to determine the fitness of each agent, and `prob_survive` to map from fitness to probability of surviving."
      ]
    },
    {
      "cell_type": "code",
      "execution_count": 24,
      "metadata": {
        "id": "hH68jE1dxAY1"
      },
      "outputs": [],
      "source": [
        "class PDSimulation(Simulation):\n",
        "\n",
        "    def __init__(self, tournament, agents):\n",
        "        \"\"\"Create the simulation:\n",
        "\n",
        "        tournament: Tournament object\n",
        "        agents: sequence of agents\n",
        "        \"\"\"\n",
        "        self.tournament = tournament\n",
        "        self.agents = np.asarray(agents)\n",
        "        self.instruments = []\n",
        "\n",
        "    def step(self):\n",
        "        \"\"\"Simulate a time step and update the instruments.\n",
        "        \"\"\"\n",
        "        self.tournament.melee(self.agents)\n",
        "        Simulation.step(self)\n",
        "\n",
        "    def choose_dead(self, fits):\n",
        "        \"\"\"Choose which agents die in the next timestep.\n",
        "\n",
        "        fits: fitness of each agent\n",
        "\n",
        "        returns: indices of the chosen ones\n",
        "        \"\"\"\n",
        "        ps = prob_survive(fits)\n",
        "        n = len(self.agents)\n",
        "        is_dead = np.random.random(n) < ps\n",
        "        index_dead = np.nonzero(is_dead)[0]\n",
        "        return index_dead"
      ]
    },
    {
      "cell_type": "markdown",
      "metadata": {
        "id": "BrEdPRWSxAY1"
      },
      "source": [
        "We might want to start with random agents."
      ]
    },
    {
      "cell_type": "code",
      "execution_count": 25,
      "metadata": {
        "id": "edJsxNyKxAY1"
      },
      "outputs": [],
      "source": [
        "def make_random_agents(n):\n",
        "    \"\"\"Make agents with random genotype.\n",
        "\n",
        "    n: number of agents\n",
        "\n",
        "    returns: sequence of agents\n",
        "    \"\"\"\n",
        "    agents = [Agent(np.random.choice(['C', 'D'], size=7))\n",
        "              for _ in range(n)]\n",
        "    return agents"
      ]
    },
    {
      "cell_type": "markdown",
      "metadata": {
        "id": "5Xiu5icRxAY1"
      },
      "source": [
        "Or with all identical agents."
      ]
    },
    {
      "cell_type": "code",
      "execution_count": 26,
      "metadata": {
        "id": "vpChOw8kxAY1"
      },
      "outputs": [],
      "source": [
        "def make_identical_agents(n, values):\n",
        "    \"\"\"Make agents with the given genotype.\n",
        "\n",
        "    n: number of agents\n",
        "    values: sequence of 'C' and 'D'\n",
        "\n",
        "    returns: sequence of agents\n",
        "    \"\"\"\n",
        "    agents = [Agent(values) for _ in range(n)]\n",
        "    return agents"
      ]
    },
    {
      "cell_type": "markdown",
      "metadata": {
        "id": "zrstqzt-xAY1"
      },
      "source": [
        "Here are the instruments to compute various metrics.\n",
        "\n",
        "`Niceness` is the average number of `C` across the genotypes in the population."
      ]
    },
    {
      "cell_type": "code",
      "execution_count": 27,
      "metadata": {
        "id": "9gt7l7QVxAY9"
      },
      "outputs": [],
      "source": [
        "class Niceness(Instrument):\n",
        "    \"\"\"Fraction of cooperation in all genotypes.\"\"\"\n",
        "    label = 'Niceness'\n",
        "\n",
        "    def update(self, sim):\n",
        "        responses = np.array([agent.values for agent in sim.agents])\n",
        "        metric = np.mean(responses == 'C')\n",
        "        self.metrics.append(metric)"
      ]
    },
    {
      "cell_type": "markdown",
      "metadata": {
        "id": "D5jFHXb3xAY9"
      },
      "source": [
        "`Opening` is the fraction of agents that cooperate in the first round."
      ]
    },
    {
      "cell_type": "code",
      "execution_count": 28,
      "metadata": {
        "id": "4ddL25J8xAY9"
      },
      "outputs": [],
      "source": [
        "class Opening(Instrument):\n",
        "    \"\"\"Fraction of agents that cooperate on the first round.\"\"\"\n",
        "    label = 'Opening'\n",
        "\n",
        "    def update(self, sim):\n",
        "        responses = np.array([agent.values[0] for agent in sim.agents])\n",
        "        metric = np.mean(responses == 'C')\n",
        "        self.metrics.append(metric)"
      ]
    },
    {
      "cell_type": "markdown",
      "metadata": {
        "id": "1K_1cyUaxAY9"
      },
      "source": [
        "`Retaliating` is the difference between (1) the fraction of agents that defect after the opponent defects and (2) the fraction of agents that defect after the opponent cooperates."
      ]
    },
    {
      "cell_type": "code",
      "execution_count": 29,
      "metadata": {
        "id": "siFCZ78lxAY9"
      },
      "outputs": [],
      "source": [
        "class Retaliating(Instrument):\n",
        "    \"\"\"Tendency to defect after opponent defects.\"\"\"\n",
        "    label = 'Retaliating'\n",
        "\n",
        "    def update(self, sim):\n",
        "        after_d = np.array([agent.values[2::2] for agent in sim.agents])\n",
        "        after_c = np.array([agent.values[1::2] for agent in sim.agents])\n",
        "        metric = np.mean(after_d == 'D') - np.mean(after_c == 'D')\n",
        "        self.metrics.append(metric)"
      ]
    },
    {
      "cell_type": "markdown",
      "metadata": {
        "id": "HnGvoteuxAY-"
      },
      "source": [
        "Forgiving is the difference between the number of agents that cooperate after DC minus the number that cooperate after CD."
      ]
    },
    {
      "cell_type": "code",
      "execution_count": 30,
      "metadata": {
        "id": "iEaAAPNCxAY-"
      },
      "outputs": [],
      "source": [
        "class Forgiving(Instrument):\n",
        "    \"\"\"Tendency to cooperate if opponent cooperates after defecting.\"\"\"\n",
        "    label = 'Forgiving'\n",
        "\n",
        "    def update(self, sim):\n",
        "        after_dc = np.array([agent.values[5] for agent in sim.agents])\n",
        "        after_cd = np.array([agent.values[4] for agent in sim.agents])\n",
        "        metric = np.mean(after_dc == 'C') - np.mean(after_cd == 'C')\n",
        "        self.metrics.append(metric)"
      ]
    },
    {
      "cell_type": "markdown",
      "metadata": {
        "id": "9-7SsKptxAY-"
      },
      "source": [
        "Here's another metric intended to measure forgiveness."
      ]
    },
    {
      "cell_type": "code",
      "execution_count": 31,
      "metadata": {
        "id": "O8TVIB8CxAY-"
      },
      "outputs": [],
      "source": [
        "class Forgiving2(Instrument):\n",
        "    \"\"\"Ability to cooperate after the first two rounds.\"\"\"\n",
        "    label = 'Forgiving2'\n",
        "\n",
        "    def update(self, sim):\n",
        "        after_two = np.array([agent.values[3:] for agent in sim.agents])\n",
        "        metric = np.mean(np.any(after_two=='C', axis=1))\n",
        "        self.metrics.append(metric)"
      ]
    },
    {
      "cell_type": "markdown",
      "source": [
        "# Pre Designed Simulation\n",
        "To help explain how the tournament simulation works we created one that runs a tournament of only our backstabbing agent to see what happens with that. To start below we define a tournament with 100 agents, 2500 steps evolution steps, and our backstabbing agent. We also run it with a specific seed to get the same results each time (for demonstration purposes)."
      ],
      "metadata": {
        "id": "Oo2QfwSxaK23"
      }
    },
    {
      "cell_type": "code",
      "source": [
        "tour = Tournament()\n",
        "\n",
        "# User Input\n",
        "number = 100\n",
        "steps = 2500\n",
        "\n",
        "#Makes Agents\n",
        "if agent == \"random\":\n",
        "  make_random_agents(number)\n",
        "else:\n",
        "  agents = make_identical_agents(number, list('CDCDCDC'))\n",
        "\n",
        "#Starts Simulation\n",
        "sim = PDSimulation(tour, agents)\n",
        "\n",
        "#Adds Trackers\n",
        "sim.add_instrument(MeanFitness())\n",
        "sim.add_instrument(Niceness())\n",
        "sim.add_instrument(Opening())\n",
        "sim.add_instrument(Retaliating())\n",
        "sim.add_instrument(Forgiving())"
      ],
      "metadata": {
        "id": "xZcxVNARFufa"
      },
      "execution_count": 53,
      "outputs": []
    },
    {
      "cell_type": "code",
      "source": [
        "#Runs simulations with a seed\n",
        "np.random.seed(17)\n",
        "sim.run(steps)"
      ],
      "metadata": {
        "id": "CxzRAvi3GCRq",
        "outputId": "614f5854-1664-457a-d801-9c1a21d3467b",
        "colab": {
          "base_uri": "https://localhost:8080/"
        }
      },
      "execution_count": 54,
      "outputs": [
        {
          "output_type": "stream",
          "name": "stderr",
          "text": [
            "<ipython-input-3-682d1ebff568>:6: RuntimeWarning: Mean of empty slice\n",
            "  mean = np.nanmean(sim.get_fitnesses())\n"
          ]
        }
      ]
    },
    {
      "cell_type": "code",
      "execution_count": 55,
      "metadata": {
        "id": "9YSJc-g-xAY-"
      },
      "outputs": [],
      "source": [
        "def plot_result(index, **options):\n",
        "    \"\"\"Plots the results of the indicated instrument.\n",
        "\n",
        "    index: integer\n",
        "    \"\"\"\n",
        "    sim.plot(index, **options)\n",
        "    instrument = sim.instruments[index]\n",
        "    print(np.mean(instrument.metrics[1000:]))\n",
        "    decorate(xlabel='Time steps',\n",
        "                     ylabel=instrument.label)"
      ]
    },
    {
      "cell_type": "markdown",
      "source": [
        "The graph below shows that, while at the start our mean score was low, and for a bit it plummited to nearly 1 score per agent, eventually the score ended up around 2.5"
      ],
      "metadata": {
        "id": "aS5BUp_VfZdQ"
      }
    },
    {
      "cell_type": "code",
      "source": [
        "#Displays Mean Fitness\n",
        "plot_result(0, color='C0')\n",
        "plt.show('figs/chap12-1')"
      ],
      "metadata": {
        "id": "WwMK6CrbHhH0",
        "outputId": "5403f428-773d-4f27-eab4-85fac22320cd",
        "colab": {
          "base_uri": "https://localhost:8080/",
          "height": 504
        }
      },
      "execution_count": 56,
      "outputs": [
        {
          "output_type": "stream",
          "name": "stdout",
          "text": [
            "2.5827065289806796\n"
          ]
        },
        {
          "output_type": "display_data",
          "data": {
            "text/plain": [
              "<Figure size 640x480 with 1 Axes>"
            ],
            "image/png": "[encoded data removed]"
          },
          "metadata": {}
        }
      ]
    },
    {
      "cell_type": "markdown",
      "source": [
        "The Graph below here shows that the niceness of the agents as constantly fluctuating in a small range but most agents ended up being relatively nice."
      ],
      "metadata": {
        "id": "JRUWxewwhWCQ"
      }
    },
    {
      "cell_type": "code",
      "source": [
        "#Shows Niceness (Average number of Cooperators across all agents)\n",
        "plot_result(1, color='C1')"
      ],
      "metadata": {
        "id": "btjNZEZpHjoP",
        "outputId": "708b5fda-8adf-44c9-ac22-8b8b9808f7cf",
        "colab": {
          "base_uri": "https://localhost:8080/",
          "height": 503
        }
      },
      "execution_count": 36,
      "outputs": [
        {
          "output_type": "stream",
          "name": "stdout",
          "text": [
            "nan\n"
          ]
        },
        {
          "output_type": "display_data",
          "data": {
            "text/plain": [
              "<Figure size 640x480 with 1 Axes>"
            ],
            "image/png": "[encoded data removed]"
          },
          "metadata": {}
        }
      ]
    },
    {
      "cell_type": "markdown",
      "source": [
        "The graph below here shows that all of our agents started by cooperating at first (which was known) but eventually moved to being mostly but not entirely made up of agents who cooperated at first."
      ],
      "metadata": {
        "id": "dljtpumDhlqm"
      }
    },
    {
      "cell_type": "code",
      "source": [
        "#Shows Opening (Agents who started with cooperation)\n",
        "plot_result(2, color='C2')"
      ],
      "metadata": {
        "id": "s6vYZRkyHsgo",
        "outputId": "95d53d96-1810-470c-8672-3933b3fd96b6",
        "colab": {
          "base_uri": "https://localhost:8080/",
          "height": 504
        }
      },
      "execution_count": 37,
      "outputs": [
        {
          "output_type": "stream",
          "name": "stdout",
          "text": [
            "nan\n"
          ]
        },
        {
          "output_type": "display_data",
          "data": {
            "text/plain": [
              "<Figure size 640x480 with 1 Axes>"
            ],
            "image/png": "[encoded data removed]"
          },
          "metadata": {}
        }
      ]
    },
    {
      "cell_type": "markdown",
      "source": [
        "The graph below shows that, despite not starting with any retaliation, the agents eventually began to be made up of equally as many agents who retaliated as thos who didn't."
      ],
      "metadata": {
        "id": "KIiwq_B9iLSq"
      }
    },
    {
      "cell_type": "code",
      "source": [
        "#Shows Retaliation (Difference between agents who defect after defection and cooperate after defection)\n",
        "plot_result(3, color='C3')"
      ],
      "metadata": {
        "id": "xRkL6xYCHv8G",
        "outputId": "a2ae1e60-6023-493c-848c-40c44b2ec0cc",
        "colab": {
          "base_uri": "https://localhost:8080/",
          "height": 504
        }
      },
      "execution_count": 38,
      "outputs": [
        {
          "output_type": "stream",
          "name": "stdout",
          "text": [
            "nan\n"
          ]
        },
        {
          "output_type": "display_data",
          "data": {
            "text/plain": [
              "<Figure size 640x480 with 1 Axes>"
            ],
            "image/png": "[encoded data removed]"
          },
          "metadata": {}
        }
      ]
    },
    {
      "cell_type": "markdown",
      "source": [
        "At first none of our agents were considered forgiving, yet over time this too moved toward ab equalibrium of forgiving agents and unforgiving ones."
      ],
      "metadata": {
        "id": "UnNTNkZ6iZ3x"
      }
    },
    {
      "cell_type": "code",
      "source": [
        "#Shows average amount of agents who forgive a round or two after defection\n",
        "plot_result(4, color='C4')"
      ],
      "metadata": {
        "id": "ulbkIyQvH0Mr",
        "outputId": "e1035fc1-32ed-4817-8c03-efba82287f7c",
        "colab": {
          "base_uri": "https://localhost:8080/",
          "height": 504
        }
      },
      "execution_count": 39,
      "outputs": [
        {
          "output_type": "stream",
          "name": "stdout",
          "text": [
            "nan\n"
          ]
        },
        {
          "output_type": "display_data",
          "data": {
            "text/plain": [
              "<Figure size 640x480 with 1 Axes>"
            ],
            "image/png": "[encoded data removed]"
          },
          "metadata": {}
        }
      ]
    },
    {
      "cell_type": "markdown",
      "source": [
        "And last but not least, this shows that our agents ended up as mostly fully cooperative agents with minor tweaks. Our top three were one that retaliates only after memory has been fully established. One That defects at the start and one that backstabs the opponent if they cooperated at the start."
      ],
      "metadata": {
        "id": "Sh3V9EMhio5Y"
      }
    },
    {
      "cell_type": "code",
      "source": [
        "from pandas import Series\n",
        "\n",
        "responses = [''.join(agent.values) for agent in sim.agents]\n",
        "Series(responses).value_counts()"
      ],
      "metadata": {
        "id": "KeBoho9gJfJZ",
        "outputId": "c48ae5dc-35d4-4136-a93c-ab55e1ca1703",
        "colab": {
          "base_uri": "https://localhost:8080/",
          "height": 586
        }
      },
      "execution_count": 40,
      "outputs": [
        {
          "output_type": "execute_result",
          "data": {
            "text/plain": [
              "CCCCDCC    18\n",
              "DCCCCCC    17\n",
              "CDCCCCC    15\n",
              "CCCCCCC     8\n",
              "CDCDCCD     8\n",
              "CCDCCCC     6\n",
              "CCDDCCC     6\n",
              "CCDDCDC     4\n",
              "CCCCDDC     4\n",
              "DDCDCCC     3\n",
              "DCCCCCD     3\n",
              "CDCDCCC     3\n",
              "CDCCCCD     2\n",
              "CCCCDCD     1\n",
              "CCDDDCC     1\n",
              "DCCCDCC     1\n",
              "Name: count, dtype: int64"
            ],
            "text/html": [
              "<div>\n",
              "<style scoped>\n",
              "    .dataframe tbody tr th:only-of-type {\n",
              "        vertical-align: middle;\n",
              "    }\n",
              "\n",
              "    .dataframe tbody tr th {\n",
              "        vertical-align: top;\n",
              "    }\n",
              "\n",
              "    .dataframe thead th {\n",
              "        text-align: right;\n",
              "    }\n",
              "</style>\n",
              "<table border=\"1\" class=\"dataframe\">\n",
              "  <thead>\n",
              "    <tr style=\"text-align: right;\">\n",
              "      <th></th>\n",
              "      <th>count</th>\n",
              "    </tr>\n",
              "  </thead>\n",
              "  <tbody>\n",
              "    <tr>\n",
              "      <th>CCCCDCC</th>\n",
              "      <td>18</td>\n",
              "    </tr>\n",
              "    <tr>\n",
              "      <th>DCCCCCC</th>\n",
              "      <td>17</td>\n",
              "    </tr>\n",
              "    <tr>\n",
              "      <th>CDCCCCC</th>\n",
              "      <td>15</td>\n",
              "    </tr>\n",
              "    <tr>\n",
              "      <th>CCCCCCC</th>\n",
              "      <td>8</td>\n",
              "    </tr>\n",
              "    <tr>\n",
              "      <th>CDCDCCD</th>\n",
              "      <td>8</td>\n",
              "    </tr>\n",
              "    <tr>\n",
              "      <th>CCDCCCC</th>\n",
              "      <td>6</td>\n",
              "    </tr>\n",
              "    <tr>\n",
              "      <th>CCDDCCC</th>\n",
              "      <td>6</td>\n",
              "    </tr>\n",
              "    <tr>\n",
              "      <th>CCDDCDC</th>\n",
              "      <td>4</td>\n",
              "    </tr>\n",
              "    <tr>\n",
              "      <th>CCCCDDC</th>\n",
              "      <td>4</td>\n",
              "    </tr>\n",
              "    <tr>\n",
              "      <th>DDCDCCC</th>\n",
              "      <td>3</td>\n",
              "    </tr>\n",
              "    <tr>\n",
              "      <th>DCCCCCD</th>\n",
              "      <td>3</td>\n",
              "    </tr>\n",
              "    <tr>\n",
              "      <th>CDCDCCC</th>\n",
              "      <td>3</td>\n",
              "    </tr>\n",
              "    <tr>\n",
              "      <th>CDCCCCD</th>\n",
              "      <td>2</td>\n",
              "    </tr>\n",
              "    <tr>\n",
              "      <th>CCCCDCD</th>\n",
              "      <td>1</td>\n",
              "    </tr>\n",
              "    <tr>\n",
              "      <th>CCDDDCC</th>\n",
              "      <td>1</td>\n",
              "    </tr>\n",
              "    <tr>\n",
              "      <th>DCCCDCC</th>\n",
              "      <td>1</td>\n",
              "    </tr>\n",
              "  </tbody>\n",
              "</table>\n",
              "</div><br><label><b>dtype:</b> int64</label>"
            ]
          },
          "metadata": {},
          "execution_count": 40
        }
      ]
    },
    {
      "cell_type": "markdown",
      "source": [
        "All in all this shows us that over time in a group of agents who begin by always betraying each other they will end up mostly cooperating, only having slight backstabbing tendencies that optimize the points. (See our second most poulated group which takes advantage of the openness of other agents.)"
      ],
      "metadata": {
        "id": "0eqHyn0DjRRv"
      }
    },
    {
      "cell_type": "markdown",
      "source": [
        "### Round Robin Playoffs (ADDED)\n"
      ],
      "metadata": {
        "id": "o3Ez5lgOqupo"
      }
    },
    {
      "cell_type": "code",
      "source": [
        "class PairwiseRoundRobinTournament:\n",
        "    def __init__(self, payoffs, num_rounds=6):\n",
        "        \"\"\"\n",
        "        Initialize the Pairwise Round-Robin Tournament.\n",
        "        payoffs: dict\n",
        "            Payoff matrix for the Prisoner's Dilemma.\n",
        "        num_rounds: int\n",
        "            Number of rounds for each pair.\n",
        "        \"\"\"\n",
        "        self.payoffs = payoffs\n",
        "        self.num_rounds = num_rounds\n",
        "    def play(self, agent1, agent2):\n",
        "        \"\"\"\n",
        "        Play a sequence of iterated Prisoner's Dilemma rounds between two agents.\n",
        "        agent1, agent2: Agent objects\n",
        "        Returns:\n",
        "            Tuple of scores (agent1_score, agent2_score).\n",
        "        \"\"\"\n",
        "        agent1.reset()\n",
        "        agent2.reset()\n",
        "        for _ in range(self.num_rounds):\n",
        "            resp1 = agent1.respond(agent2)\n",
        "            resp2 = agent2.respond(agent1)\n",
        "            pay1, pay2 = self.payoffs[resp1, resp2]\n",
        "            agent1.append(resp1, pay1)\n",
        "            agent2.append(resp2, pay2)\n",
        "        return agent1.score, agent2.score\n",
        "    def round_robin(self, agents):\n",
        "        \"\"\"\n",
        "        Conduct a full pairwise round-robin tournament.\n",
        "        agents: list of Agent objects\n",
        "        Updates agents' fitness values based on their average scores.\n",
        "        \"\"\"\n",
        "        n = len(agents)\n",
        "        totals = np.zeros(n)\n",
        "        for i in range(n):\n",
        "            for j in range(i, n):\n",
        "                print(f\"Agent {i} ({agents[i].values}) vs Agent {j} ({agents[j].values})\")\n",
        "                score1, score2 = self.play(agents[i], agents[j])\n",
        "                totals[i] += score1\n",
        "                totals[j] += score2\n",
        "        for i in range(n):\n",
        "            agents[i].fitness = totals[i] / (n - 1) / self.num_rounds   # Average score per agent"
      ],
      "metadata": {
        "id": "FoSqqfseq3NH"
      },
      "execution_count": 41,
      "outputs": []
    },
    {
      "cell_type": "code",
      "source": [
        "class PDSimulationWithRoundRobin(PDSimulation):\n",
        "    def __init__(self, tournament, agents):\n",
        "        super().__init__(tournament, agents)\n",
        "    def step(self):\n",
        "        \"\"\"\n",
        "        Run one step of the simulation.\n",
        "        \"\"\"\n",
        "        # Run the full pairwise round-robin tournament\n",
        "        self.tournament.round_robin(self.agents)\n",
        "        Simulation.step(self)"
      ],
      "metadata": {
        "id": "q9Or1Ba-q6J9"
      },
      "execution_count": 42,
      "outputs": []
    },
    {
      "cell_type": "code",
      "source": [
        "payoffs = {('C', 'C'): (3, 3),\n",
        "           ('C', 'D'): (0, 5),\n",
        "           ('D', 'C'): (5, 0),\n",
        "           ('D', 'D'): (1, 1)}\n",
        "tour = PairwiseRoundRobinTournament(payoffs)\n",
        "tour.play(all_d, all_c)"
      ],
      "metadata": {
        "colab": {
          "base_uri": "https://localhost:8080/"
        },
        "id": "ZVcHCvusrDHH",
        "outputId": "0a507683-895c-4b4c-e086-bc2a83136cd2"
      },
      "execution_count": 43,
      "outputs": [
        {
          "output_type": "execute_result",
          "data": {
            "text/plain": [
              "(30, 0)"
            ]
          },
          "metadata": {},
          "execution_count": 43
        }
      ]
    },
    {
      "cell_type": "code",
      "source": [
        "agents = [all_c, all_d, tft, back, nf, StartDef]\n",
        "\n",
        "tour.round_robin(agents)"
      ],
      "metadata": {
        "colab": {
          "base_uri": "https://localhost:8080/"
        },
        "id": "fy__TVbFrO_X",
        "outputId": "0f9daac2-faf6-4943-8dfa-b67aa70b07cf"
      },
      "execution_count": 44,
      "outputs": [
        {
          "output_type": "stream",
          "name": "stdout",
          "text": [
            "Agent 0 (CCCCCCC) vs Agent 0 (CCCCCCC)\n",
            "Agent 0 (CCCCCCC) vs Agent 1 (DDDDDDD)\n",
            "Agent 0 (CCCCCCC) vs Agent 2 (CCDCDCD)\n",
            "Agent 0 (CCCCCCC) vs Agent 3 (CDCDCDC)\n",
            "Agent 0 (CCCCCCC) vs Agent 4 (CCDCDDD)\n",
            "Agent 0 (CCCCCCC) vs Agent 5 (DCCCCCC)\n",
            "Agent 1 (DDDDDDD) vs Agent 1 (DDDDDDD)\n",
            "Agent 1 (DDDDDDD) vs Agent 2 (CCDCDCD)\n",
            "Agent 1 (DDDDDDD) vs Agent 3 (CDCDCDC)\n",
            "Agent 1 (DDDDDDD) vs Agent 4 (CCDCDDD)\n",
            "Agent 1 (DDDDDDD) vs Agent 5 (DCCCCCC)\n",
            "Agent 2 (CCDCDCD) vs Agent 2 (CCDCDCD)\n",
            "Agent 2 (CCDCDCD) vs Agent 3 (CDCDCDC)\n",
            "Agent 2 (CCDCDCD) vs Agent 4 (CCDCDDD)\n",
            "Agent 2 (CCDCDCD) vs Agent 5 (DCCCCCC)\n",
            "Agent 3 (CDCDCDC) vs Agent 3 (CDCDCDC)\n",
            "Agent 3 (CDCDCDC) vs Agent 4 (CCDCDDD)\n",
            "Agent 3 (CDCDCDC) vs Agent 5 (DCCCCCC)\n",
            "Agent 4 (CCDCDDD) vs Agent 4 (CCDCDDD)\n",
            "Agent 4 (CCDCDDD) vs Agent 5 (DCCCCCC)\n",
            "Agent 5 (DCCCCCC) vs Agent 5 (DCCCCCC)\n"
          ]
        }
      ]
    },
    {
      "cell_type": "code",
      "source": [
        "for agent in agents:\n",
        "  print(agent.values, agent.fitness)"
      ],
      "metadata": {
        "colab": {
          "base_uri": "https://localhost:8080/"
        },
        "id": "_PgUwtkOr1hl",
        "outputId": "2a76ccde-78f0-4b99-e0a4-caa0dbb3e3e0"
      },
      "execution_count": 45,
      "outputs": [
        {
          "output_type": "stream",
          "name": "stdout",
          "text": [
            "CCCCCCC 4.2\n",
            "DDDDDDD 4.333333333333333\n",
            "CCDCDCD 4.733333333333333\n",
            "CDCDCDC 4.266666666666667\n",
            "CCDCDDD 4.966666666666667\n",
            "DCCCCCC 4.133333333333334\n"
          ]
        }
      ]
    },
    {
      "cell_type": "markdown",
      "source": [
        "# Conclusion/Discussion\n",
        "\n",
        "Move code for self input here\n"
      ],
      "metadata": {
        "id": "EqZ5igGuJgDO"
      }
    },
    {
      "cell_type": "markdown",
      "metadata": {
        "id": "kodWVGrzxAY-"
      },
      "source": [
        "### Inputable Code\n",
        "\n",
        "Here's a simulation that runs a chosen amount of a chosen agent (or random).\n"
      ]
    },
    {
      "cell_type": "code",
      "execution_count": 46,
      "metadata": {
        "id": "w9DdRc9CxAY-",
        "colab": {
          "base_uri": "https://localhost:8080/",
          "height": 356
        },
        "outputId": "045425ac-d176-4b50-9396-3e587dad159c"
      },
      "outputs": [
        {
          "output_type": "error",
          "ename": "KeyboardInterrupt",
          "evalue": "Interrupted by user",
          "traceback": [
            "\u001b[0;31m---------------------------------------------------------------------------\u001b[0m",
            "\u001b[0;31mKeyboardInterrupt\u001b[0m                         Traceback (most recent call last)",
            "\u001b[0;32m<ipython-input-46-c120d5acd762>\u001b[0m in \u001b[0;36m<cell line: 4>\u001b[0;34m()\u001b[0m\n\u001b[1;32m      2\u001b[0m \u001b[0;34m\u001b[0m\u001b[0m\n\u001b[1;32m      3\u001b[0m \u001b[0;31m# User Input\u001b[0m\u001b[0;34m\u001b[0m\u001b[0;34m\u001b[0m\u001b[0m\n\u001b[0;32m----> 4\u001b[0;31m \u001b[0magent\u001b[0m \u001b[0;34m=\u001b[0m \u001b[0minput\u001b[0m\u001b[0;34m(\u001b[0m\u001b[0;34m\"Input your 7 letter character string or 'random' for a random group:\"\u001b[0m\u001b[0;34m)\u001b[0m\u001b[0;34m\u001b[0m\u001b[0;34m\u001b[0m\u001b[0m\n\u001b[0m\u001b[1;32m      5\u001b[0m \u001b[0mnumber\u001b[0m \u001b[0;34m=\u001b[0m \u001b[0mint\u001b[0m\u001b[0;34m(\u001b[0m\u001b[0minput\u001b[0m\u001b[0;34m(\u001b[0m\u001b[0;34m\"Input your number of agents:\"\u001b[0m\u001b[0;34m)\u001b[0m\u001b[0;34m)\u001b[0m\u001b[0;34m\u001b[0m\u001b[0;34m\u001b[0m\u001b[0m\n\u001b[1;32m      6\u001b[0m \u001b[0msteps\u001b[0m \u001b[0;34m=\u001b[0m \u001b[0mint\u001b[0m\u001b[0;34m(\u001b[0m\u001b[0minput\u001b[0m\u001b[0;34m(\u001b[0m\u001b[0;34m\"Enter the number of steps you want the sim to run for:\"\u001b[0m\u001b[0;34m)\u001b[0m\u001b[0;34m)\u001b[0m\u001b[0;34m\u001b[0m\u001b[0;34m\u001b[0m\u001b[0m\n",
            "\u001b[0;32m/usr/local/lib/python3.10/dist-packages/ipykernel/kernelbase.py\u001b[0m in \u001b[0;36mraw_input\u001b[0;34m(self, prompt)\u001b[0m\n\u001b[1;32m    849\u001b[0m                 \u001b[0;34m\"raw_input was called, but this frontend does not support input requests.\"\u001b[0m\u001b[0;34m\u001b[0m\u001b[0;34m\u001b[0m\u001b[0m\n\u001b[1;32m    850\u001b[0m             )\n\u001b[0;32m--> 851\u001b[0;31m         return self._input_request(str(prompt),\n\u001b[0m\u001b[1;32m    852\u001b[0m             \u001b[0mself\u001b[0m\u001b[0;34m.\u001b[0m\u001b[0m_parent_ident\u001b[0m\u001b[0;34m,\u001b[0m\u001b[0;34m\u001b[0m\u001b[0;34m\u001b[0m\u001b[0m\n\u001b[1;32m    853\u001b[0m             \u001b[0mself\u001b[0m\u001b[0;34m.\u001b[0m\u001b[0m_parent_header\u001b[0m\u001b[0;34m,\u001b[0m\u001b[0;34m\u001b[0m\u001b[0;34m\u001b[0m\u001b[0m\n",
            "\u001b[0;32m/usr/local/lib/python3.10/dist-packages/ipykernel/kernelbase.py\u001b[0m in \u001b[0;36m_input_request\u001b[0;34m(self, prompt, ident, parent, password)\u001b[0m\n\u001b[1;32m    893\u001b[0m             \u001b[0;32mexcept\u001b[0m \u001b[0mKeyboardInterrupt\u001b[0m\u001b[0;34m:\u001b[0m\u001b[0;34m\u001b[0m\u001b[0;34m\u001b[0m\u001b[0m\n\u001b[1;32m    894\u001b[0m                 \u001b[0;31m# re-raise KeyboardInterrupt, to truncate traceback\u001b[0m\u001b[0;34m\u001b[0m\u001b[0;34m\u001b[0m\u001b[0m\n\u001b[0;32m--> 895\u001b[0;31m                 \u001b[0;32mraise\u001b[0m \u001b[0mKeyboardInterrupt\u001b[0m\u001b[0;34m(\u001b[0m\u001b[0;34m\"Interrupted by user\"\u001b[0m\u001b[0;34m)\u001b[0m \u001b[0;32mfrom\u001b[0m \u001b[0;32mNone\u001b[0m\u001b[0;34m\u001b[0m\u001b[0;34m\u001b[0m\u001b[0m\n\u001b[0m\u001b[1;32m    896\u001b[0m             \u001b[0;32mexcept\u001b[0m \u001b[0mException\u001b[0m \u001b[0;32mas\u001b[0m \u001b[0me\u001b[0m\u001b[0;34m:\u001b[0m\u001b[0;34m\u001b[0m\u001b[0;34m\u001b[0m\u001b[0m\n\u001b[1;32m    897\u001b[0m                 \u001b[0mself\u001b[0m\u001b[0;34m.\u001b[0m\u001b[0mlog\u001b[0m\u001b[0;34m.\u001b[0m\u001b[0mwarning\u001b[0m\u001b[0;34m(\u001b[0m\u001b[0;34m\"Invalid Message:\"\u001b[0m\u001b[0;34m,\u001b[0m \u001b[0mexc_info\u001b[0m\u001b[0;34m=\u001b[0m\u001b[0;32mTrue\u001b[0m\u001b[0;34m)\u001b[0m\u001b[0;34m\u001b[0m\u001b[0;34m\u001b[0m\u001b[0m\n",
            "\u001b[0;31mKeyboardInterrupt\u001b[0m: Interrupted by user"
          ]
        }
      ],
      "source": [
        "tour = Tournament()\n",
        "\n",
        "# User Input\n",
        "agent = input(\"Input your 7 letter character string or 'random' for a random group:\")\n",
        "number = int(input(\"Input your number of agents:\"))\n",
        "steps = int(input(\"Enter the number of steps you want the sim to run for:\"))\n",
        "\n",
        "#Makes Agents\n",
        "if agent == \"random\":\n",
        "  agents = make_random_agents(number)\n",
        "else:\n",
        "  agents = make_identical_agents(number, list(agent))\n",
        "\n",
        "#Starts Simulation\n",
        "sim = PDSimulation(tour, agents)\n",
        "\n",
        "#Adds Trackers\n",
        "sim.add_instrument(MeanFitness())\n",
        "sim.add_instrument(Niceness())\n",
        "sim.add_instrument(Opening())\n",
        "sim.add_instrument(Retaliating())\n",
        "sim.add_instrument(Forgiving())"
      ]
    },
    {
      "cell_type": "markdown",
      "metadata": {
        "id": "4KN6QvN-xAY-"
      },
      "source": [
        "Run the simulation.  If you get a warning about `Mean of empty slice`, that's ok."
      ]
    },
    {
      "cell_type": "code",
      "execution_count": null,
      "metadata": {
        "id": "Ry8jTregxAY-"
      },
      "outputs": [],
      "source": [
        "#Runs simulations with a seed\n",
        "np.random.seed(17)\n",
        "sim.run(steps)"
      ]
    },
    {
      "cell_type": "markdown",
      "metadata": {
        "id": "U_7eMTaIxAY-"
      },
      "source": [
        "And let's look at some results."
      ]
    },
    {
      "cell_type": "code",
      "execution_count": null,
      "metadata": {
        "tags": [],
        "id": "H7LfNVafxAY_"
      },
      "outputs": [],
      "source": [
        "#Displays Mean Fitness\n",
        "plot_result(0, color='C0')\n",
        "plt.show('figs/chap12-1')"
      ]
    },
    {
      "cell_type": "code",
      "execution_count": null,
      "metadata": {
        "tags": [],
        "id": "hhvao69IxAY_"
      },
      "outputs": [],
      "source": [
        "#Shows Niceness (Average number of Cooperators across all agents)\n",
        "plot_result(1, color='C1')"
      ]
    },
    {
      "cell_type": "code",
      "execution_count": null,
      "metadata": {
        "tags": [],
        "id": "RRDXT1BLxAY_"
      },
      "outputs": [],
      "source": [
        "#Shows Opening (Agents who started with cooperation)\n",
        "plot_result(2, color='C2')"
      ]
    },
    {
      "cell_type": "code",
      "execution_count": null,
      "metadata": {
        "tags": [],
        "id": "oVyiJ13NxAZA"
      },
      "outputs": [],
      "source": [
        "#Shows Retaliation (Difference between agents who defect after defection and cooperate after defection)\n",
        "plot_result(3, color='C3')"
      ]
    },
    {
      "cell_type": "code",
      "execution_count": null,
      "metadata": {
        "tags": [],
        "id": "UaKjRdfoxAZA"
      },
      "outputs": [],
      "source": [
        "#Shows average amount of agents who forgive a round or two after defection\n",
        "plot_result(4, color='C4')"
      ]
    },
    {
      "cell_type": "markdown",
      "metadata": {
        "id": "OWR_Zw3rxAZA"
      },
      "source": [
        "The following cells explore the composition of the final population.  But because the distribution of agents varies so much over time, the details of a single timestep might not mean much.\n",
        "\n",
        "Here are the final genomes:"
      ]
    },
    {
      "cell_type": "code",
      "execution_count": null,
      "metadata": {
        "id": "rktzNpEYxAZA"
      },
      "outputs": [],
      "source": [
        "from pandas import Series\n",
        "\n",
        "responses = [''.join(agent.values) for agent in sim.agents]\n",
        "Series(responses).value_counts()"
      ]
    },
    {
      "cell_type": "markdown",
      "source": [
        "## References\n"
      ],
      "metadata": {
        "id": "Fy6S2BnvJiNp"
      }
    }
  ],
  "metadata": {
    "anaconda-cloud": {},
    "kernelspec": {
      "display_name": "Python 3",
      "language": "python",
      "name": "python3"
    },
    "language_info": {
      "codemirror_mode": {
        "name": "ipython",
        "version": 3
      },
      "file_extension": ".py",
      "mimetype": "text/x-python",
      "name": "python",
      "nbconvert_exporter": "python",
      "pygments_lexer": "ipython3",
      "version": "3.8.3-final"
    },
    "colab": {
      "provenance": [],
      "collapsed_sections": [
        "WR_tufC3xAYw",
        "JOVmpecYxAYx",
        "zsWGdiAHxAY0",
        "D2HcXMBexAY1"
      ],
      "include_colab_link": true
    }
  },
  "nbformat": 4,
  "nbformat_minor": 0
}